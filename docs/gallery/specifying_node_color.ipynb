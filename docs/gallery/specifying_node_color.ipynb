{
 "cells": [
  {
   "cell_type": "markdown",
   "id": "1c1e1778",
   "metadata": {},
   "source": [
    " \n",
    "# Specifying node colours\n",
    "\n",
    "[Open interactive notebook in Binder](https://mybinder.org/v2/gh/wiheto/netplotbrain/main?filepath=docs/gallery/specifying_node_color.ipynb)\n",
    "\n",
    "There are three different ways to specify different colours of nodes.\n",
    "Both are done by setting node_color keyword argument.\n",
    "If this column consists of category data, different categories will be plotted.\n",
    "If this column consists of continuous data, a colour spectrum will be plotted. \n",
    "If this column consists of differernt colours, these colours will be plotted. \n",
    "\n",
    "In this notebook we will see an example of each of the three different ways.\n",
    "\n",
    "See [example about cmap for specifying colormaps](https://www.netplotbrain.org/gallery/node_cmap/) "
   ]
  },
  {
   "cell_type": "code",
   "execution_count": 1,
   "id": "ac9f032f",
   "metadata": {
    "execution": {
     "iopub.execute_input": "2023-06-13T13:26:45.748038Z",
     "iopub.status.busy": "2023-06-13T13:26:45.747625Z",
     "iopub.status.idle": "2023-06-13T13:26:53.132457Z",
     "shell.execute_reply": "2023-06-13T13:26:53.131382Z"
    }
   },
   "outputs": [],
   "source": [
    "# Import packages\n",
    "import templateflow.api as tf\n",
    "import netplotbrain\n",
    "import pandas as pd\n",
    "import numpy as np\n",
    "import matplotlib.pyplot as plt"
   ]
  },
  {
   "cell_type": "code",
   "execution_count": 2,
   "id": "f61f460b",
   "metadata": {
    "execution": {
     "iopub.execute_input": "2023-06-13T13:26:53.137360Z",
     "iopub.status.busy": "2023-06-13T13:26:53.137072Z",
     "iopub.status.idle": "2023-06-13T13:26:53.185527Z",
     "shell.execute_reply": "2023-06-13T13:26:53.184650Z"
    },
    "lines_to_next_cell": 2
   },
   "outputs": [
    {
     "data": {
      "text/html": [
       "<div>\n",
       "<style scoped>\n",
       "    .dataframe tbody tr th:only-of-type {\n",
       "        vertical-align: middle;\n",
       "    }\n",
       "\n",
       "    .dataframe tbody tr th {\n",
       "        vertical-align: top;\n",
       "    }\n",
       "\n",
       "    .dataframe thead th {\n",
       "        text-align: right;\n",
       "    }\n",
       "</style>\n",
       "<table border=\"1\" class=\"dataframe\">\n",
       "  <thead>\n",
       "    <tr style=\"text-align: right;\">\n",
       "      <th></th>\n",
       "      <th>index</th>\n",
       "      <th>name</th>\n",
       "      <th>color</th>\n",
       "    </tr>\n",
       "  </thead>\n",
       "  <tbody>\n",
       "    <tr>\n",
       "      <th>0</th>\n",
       "      <td>1</td>\n",
       "      <td>7Networks_LH_Vis_1</td>\n",
       "      <td>#781283</td>\n",
       "    </tr>\n",
       "    <tr>\n",
       "      <th>1</th>\n",
       "      <td>2</td>\n",
       "      <td>7Networks_LH_Vis_2</td>\n",
       "      <td>#781284</td>\n",
       "    </tr>\n",
       "    <tr>\n",
       "      <th>2</th>\n",
       "      <td>3</td>\n",
       "      <td>7Networks_LH_Vis_3</td>\n",
       "      <td>#781285</td>\n",
       "    </tr>\n",
       "    <tr>\n",
       "      <th>3</th>\n",
       "      <td>4</td>\n",
       "      <td>7Networks_LH_Vis_4</td>\n",
       "      <td>#781287</td>\n",
       "    </tr>\n",
       "    <tr>\n",
       "      <th>4</th>\n",
       "      <td>5</td>\n",
       "      <td>7Networks_LH_Vis_5</td>\n",
       "      <td>#781288</td>\n",
       "    </tr>\n",
       "  </tbody>\n",
       "</table>\n",
       "</div>"
      ],
      "text/plain": [
       "   index                name    color\n",
       "0      1  7Networks_LH_Vis_1  #781283\n",
       "1      2  7Networks_LH_Vis_2  #781284\n",
       "2      3  7Networks_LH_Vis_3  #781285\n",
       "3      4  7Networks_LH_Vis_4  #781287\n",
       "4      5  7Networks_LH_Vis_5  #781288"
      ]
     },
     "execution_count": 2,
     "metadata": {},
     "output_type": "execute_result"
    }
   ],
   "source": [
    "# Download atlas information from templateflow\n",
    "atlasinfo = tf.get(template='MNI152NLin2009cAsym',\n",
    "                   atlas='Schaefer2018',\n",
    "                   desc='100Parcels7Networks',\n",
    "                   extension='.tsv')\n",
    "atlas_df = pd.read_csv(str(atlasinfo), sep='\\t')\n",
    "atlas_df.head()"
   ]
  },
  {
   "cell_type": "code",
   "execution_count": 3,
   "id": "50b5f013",
   "metadata": {
    "execution": {
     "iopub.execute_input": "2023-06-13T13:26:53.189902Z",
     "iopub.status.busy": "2023-06-13T13:26:53.189628Z",
     "iopub.status.idle": "2023-06-13T13:26:53.196179Z",
     "shell.execute_reply": "2023-06-13T13:26:53.195208Z"
    }
   },
   "outputs": [],
   "source": [
    "# Extract the network from each roi name\n",
    "networks = list(map(lambda x: x.split('_')[2], atlas_df.name.values))\n",
    "atlas_df['network'] = networks"
   ]
  },
  {
   "cell_type": "code",
   "execution_count": 4,
   "id": "cb7458e3",
   "metadata": {
    "execution": {
     "iopub.execute_input": "2023-06-13T13:26:53.200116Z",
     "iopub.status.busy": "2023-06-13T13:26:53.199832Z",
     "iopub.status.idle": "2023-06-13T13:26:53.205804Z",
     "shell.execute_reply": "2023-06-13T13:26:53.204728Z"
    }
   },
   "outputs": [],
   "source": [
    "# Add a continuous variable between 0-10 \n",
    "atlas_df['centrality'] = np.tile(np.arange(0,10), 10)"
   ]
  },
  {
   "cell_type": "code",
   "execution_count": 5,
   "id": "0f4ba9e1",
   "metadata": {
    "execution": {
     "iopub.execute_input": "2023-06-13T13:26:53.211462Z",
     "iopub.status.busy": "2023-06-13T13:26:53.211005Z",
     "iopub.status.idle": "2023-06-13T13:26:53.226820Z",
     "shell.execute_reply": "2023-06-13T13:26:53.225925Z"
    }
   },
   "outputs": [
    {
     "data": {
      "text/html": [
       "<div>\n",
       "<style scoped>\n",
       "    .dataframe tbody tr th:only-of-type {\n",
       "        vertical-align: middle;\n",
       "    }\n",
       "\n",
       "    .dataframe tbody tr th {\n",
       "        vertical-align: top;\n",
       "    }\n",
       "\n",
       "    .dataframe thead th {\n",
       "        text-align: right;\n",
       "    }\n",
       "</style>\n",
       "<table border=\"1\" class=\"dataframe\">\n",
       "  <thead>\n",
       "    <tr style=\"text-align: right;\">\n",
       "      <th></th>\n",
       "      <th>index</th>\n",
       "      <th>name</th>\n",
       "      <th>color</th>\n",
       "      <th>network</th>\n",
       "      <th>centrality</th>\n",
       "    </tr>\n",
       "  </thead>\n",
       "  <tbody>\n",
       "    <tr>\n",
       "      <th>0</th>\n",
       "      <td>1</td>\n",
       "      <td>7Networks_LH_Vis_1</td>\n",
       "      <td>#781283</td>\n",
       "      <td>Vis</td>\n",
       "      <td>0</td>\n",
       "    </tr>\n",
       "    <tr>\n",
       "      <th>1</th>\n",
       "      <td>2</td>\n",
       "      <td>7Networks_LH_Vis_2</td>\n",
       "      <td>#781284</td>\n",
       "      <td>Vis</td>\n",
       "      <td>1</td>\n",
       "    </tr>\n",
       "    <tr>\n",
       "      <th>2</th>\n",
       "      <td>3</td>\n",
       "      <td>7Networks_LH_Vis_3</td>\n",
       "      <td>#781285</td>\n",
       "      <td>Vis</td>\n",
       "      <td>2</td>\n",
       "    </tr>\n",
       "    <tr>\n",
       "      <th>3</th>\n",
       "      <td>4</td>\n",
       "      <td>7Networks_LH_Vis_4</td>\n",
       "      <td>#781287</td>\n",
       "      <td>Vis</td>\n",
       "      <td>3</td>\n",
       "    </tr>\n",
       "    <tr>\n",
       "      <th>4</th>\n",
       "      <td>5</td>\n",
       "      <td>7Networks_LH_Vis_5</td>\n",
       "      <td>#781288</td>\n",
       "      <td>Vis</td>\n",
       "      <td>4</td>\n",
       "    </tr>\n",
       "  </tbody>\n",
       "</table>\n",
       "</div>"
      ],
      "text/plain": [
       "   index                name    color network  centrality\n",
       "0      1  7Networks_LH_Vis_1  #781283     Vis           0\n",
       "1      2  7Networks_LH_Vis_2  #781284     Vis           1\n",
       "2      3  7Networks_LH_Vis_3  #781285     Vis           2\n",
       "3      4  7Networks_LH_Vis_4  #781287     Vis           3\n",
       "4      5  7Networks_LH_Vis_5  #781288     Vis           4"
      ]
     },
     "execution_count": 5,
     "metadata": {},
     "output_type": "execute_result"
    }
   ],
   "source": [
    "# Lets have a look at the data frame now with three different columns for colours\n",
    "atlas_df.head()"
   ]
  },
  {
   "cell_type": "code",
   "execution_count": 6,
   "id": "80cc0219",
   "metadata": {
    "execution": {
     "iopub.execute_input": "2023-06-13T13:26:53.231329Z",
     "iopub.status.busy": "2023-06-13T13:26:53.230859Z",
     "iopub.status.idle": "2023-06-13T13:26:53.236438Z",
     "shell.execute_reply": "2023-06-13T13:26:53.235646Z"
    }
   },
   "outputs": [],
   "source": [
    "# define the nodes as templateflow dict\n",
    "nodes = {'template': 'MNI152NLin2009cAsym',\n",
    "         'atlas': 'Schaefer2018',\n",
    "          'desc': '100Parcels7Networks',\n",
    "          'resolution': 1}"
   ]
  },
  {
   "cell_type": "code",
   "execution_count": 7,
   "id": "b2c24815",
   "metadata": {
    "execution": {
     "iopub.execute_input": "2023-06-13T13:26:53.241289Z",
     "iopub.status.busy": "2023-06-13T13:26:53.241021Z",
     "iopub.status.idle": "2023-06-13T13:29:00.231698Z",
     "shell.execute_reply": "2023-06-13T13:29:00.231020Z"
    }
   },
   "outputs": [
    {
     "data": {
      "image/png": "[encoded data removed]",
      "text/plain": [
       "<Figure size 432x288 with 3 Axes>"
      ]
     },
     "metadata": {
      "needs_background": "light"
     },
     "output_type": "display_data"
    }
   ],
   "source": [
    "# Initiative a custom figure\n",
    "fig = plt.figure() \n",
    "ax1 = fig.add_subplot(131, projection='3d')\n",
    "ax2 = fig.add_subplot(132, projection='3d')\n",
    "ax3 = fig.add_subplot(133, projection='3d')\n",
    "# Plot the three figures changing only the node_color column and node_cmap\n",
    "# The additional information from atkas_df is added into nodes_df keyword argument.\n",
    "fig, ax1 = netplotbrain.plot(nodes=nodes, nodes_df=atlas_df, node_type='parcels', node_color='color', view='S', fig=fig, ax=ax1, showlegend=False)\n",
    "fig, ax2 = netplotbrain.plot(nodes=nodes, nodes_df=atlas_df, node_type='parcels', node_color='network', node_cmap='Pastel1', view='S', fig=fig, ax=ax2, showlegend=False)\n",
    "fig, ax3 = netplotbrain.plot(nodes=nodes, nodes_df=atlas_df, node_type='parcels', node_color='centrality', node_cmap='inferno', view='S', fig=fig, ax=ax3, showlegend=False)"
   ]
  }
 ],
 "metadata": {
  "jupytext": {
   "cell_metadata_filter": "-all",
   "main_language": "python",
   "notebook_metadata_filter": "-all"
  },
  "language_info": {
   "codemirror_mode": {
    "name": "ipython",
    "version": 3
   },
   "file_extension": ".py",
   "mimetype": "text/x-python",
   "name": "python",
   "nbconvert_exporter": "python",
   "pygments_lexer": "ipython3",
   "version": "3.9.12"
  }
 },
 "nbformat": 4,
 "nbformat_minor": 5
}
