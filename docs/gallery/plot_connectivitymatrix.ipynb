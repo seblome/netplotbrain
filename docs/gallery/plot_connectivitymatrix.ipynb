{
 "cells": [
  {
   "cell_type": "markdown",
   "id": "76e8bdcd",
   "metadata": {},
   "source": [
    " \n",
    "# Visualizing a single network\n",
    "\n",
    "[Open interactive notebook in Binder](https://mybinder.org/v2/gh/wiheto/netplotbrain/main?filepath=docs/gallery/plot_connectivitymatrix.ipynb)\n",
    "\n",
    "## Goal\n",
    "Here we are plot the nodes on the brain from the Schaefer atlas and plot the connectivity matrix next to it\n"
   ]
  },
  {
   "cell_type": "code",
   "execution_count": 1,
   "id": "db537d70",
   "metadata": {
    "execution": {
     "iopub.execute_input": "2023-06-13T15:19:00.752375Z",
     "iopub.status.busy": "2023-06-13T15:19:00.751921Z",
     "iopub.status.idle": "2023-06-13T15:19:08.079863Z",
     "shell.execute_reply": "2023-06-13T15:19:08.079021Z"
    }
   },
   "outputs": [],
   "source": [
    "# Import packages\n",
    "import templateflow.api as tf\n",
    "import netplotbrain\n",
    "import pandas as pd"
   ]
  },
  {
   "cell_type": "code",
   "execution_count": 2,
   "id": "93e08cd4",
   "metadata": {
    "execution": {
     "iopub.execute_input": "2023-06-13T15:19:08.083984Z",
     "iopub.status.busy": "2023-06-13T15:19:08.083635Z",
     "iopub.status.idle": "2023-06-13T15:19:08.087926Z",
     "shell.execute_reply": "2023-06-13T15:19:08.087159Z"
    }
   },
   "outputs": [],
   "source": [
    "# Get template information\n",
    "template = 'MNI152NLin2009cAsym'\n",
    "atlas = 'Schaefer2018'\n",
    "atlas_desc = '100Parcels7Networks'"
   ]
  },
  {
   "cell_type": "code",
   "execution_count": 3,
   "id": "8bae2fbf",
   "metadata": {
    "execution": {
     "iopub.execute_input": "2023-06-13T15:19:08.091457Z",
     "iopub.status.busy": "2023-06-13T15:19:08.091103Z",
     "iopub.status.idle": "2023-06-13T15:19:08.134309Z",
     "shell.execute_reply": "2023-06-13T15:19:08.133633Z"
    }
   },
   "outputs": [
    {
     "data": {
      "text/html": [
       "<div>\n",
       "<style scoped>\n",
       "    .dataframe tbody tr th:only-of-type {\n",
       "        vertical-align: middle;\n",
       "    }\n",
       "\n",
       "    .dataframe tbody tr th {\n",
       "        vertical-align: top;\n",
       "    }\n",
       "\n",
       "    .dataframe thead th {\n",
       "        text-align: right;\n",
       "    }\n",
       "</style>\n",
       "<table border=\"1\" class=\"dataframe\">\n",
       "  <thead>\n",
       "    <tr style=\"text-align: right;\">\n",
       "      <th></th>\n",
       "      <th>index</th>\n",
       "      <th>name</th>\n",
       "      <th>color</th>\n",
       "    </tr>\n",
       "  </thead>\n",
       "  <tbody>\n",
       "    <tr>\n",
       "      <th>0</th>\n",
       "      <td>1</td>\n",
       "      <td>7Networks_LH_Vis_1</td>\n",
       "      <td>#781283</td>\n",
       "    </tr>\n",
       "    <tr>\n",
       "      <th>1</th>\n",
       "      <td>2</td>\n",
       "      <td>7Networks_LH_Vis_2</td>\n",
       "      <td>#781284</td>\n",
       "    </tr>\n",
       "    <tr>\n",
       "      <th>2</th>\n",
       "      <td>3</td>\n",
       "      <td>7Networks_LH_Vis_3</td>\n",
       "      <td>#781285</td>\n",
       "    </tr>\n",
       "    <tr>\n",
       "      <th>3</th>\n",
       "      <td>4</td>\n",
       "      <td>7Networks_LH_Vis_4</td>\n",
       "      <td>#781287</td>\n",
       "    </tr>\n",
       "    <tr>\n",
       "      <th>4</th>\n",
       "      <td>5</td>\n",
       "      <td>7Networks_LH_Vis_5</td>\n",
       "      <td>#781288</td>\n",
       "    </tr>\n",
       "  </tbody>\n",
       "</table>\n",
       "</div>"
      ],
      "text/plain": [
       "   index                name    color\n",
       "0      1  7Networks_LH_Vis_1  #781283\n",
       "1      2  7Networks_LH_Vis_2  #781284\n",
       "2      3  7Networks_LH_Vis_3  #781285\n",
       "3      4  7Networks_LH_Vis_4  #781287\n",
       "4      5  7Networks_LH_Vis_5  #781288"
      ]
     },
     "execution_count": 3,
     "metadata": {},
     "output_type": "execute_result"
    }
   ],
   "source": [
    "# Get and load the tsv file (information about the atlas)\n",
    "atlas_path = tf.get(atlas=atlas,\n",
    "                    template=template, \n",
    "                    desc=atlas_desc, \n",
    "                    extension='.tsv')\n",
    "atlas_df = pd.read_csv(atlas_path, sep='\\t')\n",
    "atlas_df.head()"
   ]
  },
  {
   "cell_type": "code",
   "execution_count": 4,
   "id": "f822f192",
   "metadata": {
    "execution": {
     "iopub.execute_input": "2023-06-13T15:19:08.138241Z",
     "iopub.status.busy": "2023-06-13T15:19:08.137988Z",
     "iopub.status.idle": "2023-06-13T15:19:08.150932Z",
     "shell.execute_reply": "2023-06-13T15:19:08.150173Z"
    }
   },
   "outputs": [
    {
     "data": {
      "text/html": [
       "<div>\n",
       "<style scoped>\n",
       "    .dataframe tbody tr th:only-of-type {\n",
       "        vertical-align: middle;\n",
       "    }\n",
       "\n",
       "    .dataframe tbody tr th {\n",
       "        vertical-align: top;\n",
       "    }\n",
       "\n",
       "    .dataframe thead th {\n",
       "        text-align: right;\n",
       "    }\n",
       "</style>\n",
       "<table border=\"1\" class=\"dataframe\">\n",
       "  <thead>\n",
       "    <tr style=\"text-align: right;\">\n",
       "      <th></th>\n",
       "      <th>index</th>\n",
       "      <th>name</th>\n",
       "      <th>color</th>\n",
       "      <th>network</th>\n",
       "    </tr>\n",
       "  </thead>\n",
       "  <tbody>\n",
       "    <tr>\n",
       "      <th>0</th>\n",
       "      <td>1</td>\n",
       "      <td>7Networks_LH_Vis_1</td>\n",
       "      <td>#781283</td>\n",
       "      <td>Vis</td>\n",
       "    </tr>\n",
       "    <tr>\n",
       "      <th>1</th>\n",
       "      <td>2</td>\n",
       "      <td>7Networks_LH_Vis_2</td>\n",
       "      <td>#781284</td>\n",
       "      <td>Vis</td>\n",
       "    </tr>\n",
       "    <tr>\n",
       "      <th>2</th>\n",
       "      <td>3</td>\n",
       "      <td>7Networks_LH_Vis_3</td>\n",
       "      <td>#781285</td>\n",
       "      <td>Vis</td>\n",
       "    </tr>\n",
       "    <tr>\n",
       "      <th>3</th>\n",
       "      <td>4</td>\n",
       "      <td>7Networks_LH_Vis_4</td>\n",
       "      <td>#781287</td>\n",
       "      <td>Vis</td>\n",
       "    </tr>\n",
       "    <tr>\n",
       "      <th>4</th>\n",
       "      <td>5</td>\n",
       "      <td>7Networks_LH_Vis_5</td>\n",
       "      <td>#781288</td>\n",
       "      <td>Vis</td>\n",
       "    </tr>\n",
       "  </tbody>\n",
       "</table>\n",
       "</div>"
      ],
      "text/plain": [
       "   index                name    color network\n",
       "0      1  7Networks_LH_Vis_1  #781283     Vis\n",
       "1      2  7Networks_LH_Vis_2  #781284     Vis\n",
       "2      3  7Networks_LH_Vis_3  #781285     Vis\n",
       "3      4  7Networks_LH_Vis_4  #781287     Vis\n",
       "4      5  7Networks_LH_Vis_5  #781288     Vis"
      ]
     },
     "execution_count": 4,
     "metadata": {},
     "output_type": "execute_result"
    }
   ],
   "source": [
    "# Create a column called \"network\" by extracting the relevant information from the column \"name\"\n",
    "atlas_df['network'] = list(map(lambda x: x.split('_')[2], atlas_df.name.values))\n",
    "atlas_df.head()"
   ]
  },
  {
   "cell_type": "code",
   "execution_count": 5,
   "id": "07df2fbd",
   "metadata": {
    "execution": {
     "iopub.execute_input": "2023-06-13T15:19:08.154467Z",
     "iopub.status.busy": "2023-06-13T15:19:08.154227Z",
     "iopub.status.idle": "2023-06-13T15:21:01.494906Z",
     "shell.execute_reply": "2023-06-13T15:21:01.493694Z"
    }
   },
   "outputs": [
    {
     "data": {
      "text/plain": [
       "(<Figure size 648x252 with 4 Axes>,\n",
       " [<Axes3D: title={'center': 'Left'}>,\n",
       "  <Axes3D: title={'center': 'Superior'}>,\n",
       "  <Axes: >,\n",
       "  <Axes: >])"
      ]
     },
     "execution_count": 5,
     "metadata": {},
     "output_type": "execute_result"
    },
    {
     "data": {
      "image/png": "[encoded data removed]",
      "text/plain": [
       "<Figure size 648x252 with 4 Axes>"
      ]
     },
     "metadata": {
      "needs_background": "light"
     },
     "output_type": "display_data"
    }
   ],
   "source": [
    "# Nodes in connectivity will automatically be organized by node_color, unless cm_order is specified. \n",
    "netplotbrain.plot(nodes={'template': 'MNI152NLin2009cAsym',\n",
    "                         'atlas': atlas,\n",
    "                         'desc': atlas_desc,\n",
    "                         'resolution': 1},\n",
    "                  view='LSc', \n",
    "                  node_type='parcels', \n",
    "                  nodes_df=atlas_df, \n",
    "                  node_color='network', \n",
    "                  node_cmap='Set2')"
   ]
  }
 ],
 "metadata": {
  "jupytext": {
   "cell_metadata_filter": "-all",
   "main_language": "python",
   "notebook_metadata_filter": "-all"
  },
  "language_info": {
   "codemirror_mode": {
    "name": "ipython",
    "version": 3
   },
   "file_extension": ".py",
   "mimetype": "text/x-python",
   "name": "python",
   "nbconvert_exporter": "python",
   "pygments_lexer": "ipython3",
   "version": "3.9.12"
  }
 },
 "nbformat": 4,
 "nbformat_minor": 5
}
