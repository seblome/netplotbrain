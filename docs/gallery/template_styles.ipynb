{
 "cells": [
  {
   "cell_type": "markdown",
   "id": "84d7320d",
   "metadata": {},
   "source": [
    " \n",
    "# Different template styles\n",
    "\n",
    "[Open interactive notebook in Binder](https://mybinder.org/v2/gh/wiheto/netplotbrain/main?filepath=docs/gallery/template_styles.ipynb)\n",
    "\n",
    "There are currently four different template style options to choose from: suface, filled, cloudy, glass. \n",
    "You just need to change the specification in the template_style argument."
   ]
  },
  {
   "cell_type": "code",
   "execution_count": 1,
   "id": "89cd6c66",
   "metadata": {
    "execution": {
     "iopub.execute_input": "2022-11-30T20:35:18.188712Z",
     "iopub.status.busy": "2022-11-30T20:35:18.188241Z",
     "iopub.status.idle": "2022-11-30T20:35:21.455639Z",
     "shell.execute_reply": "2022-11-30T20:35:21.455308Z"
    }
   },
   "outputs": [
    {
     "data": {
      "text/plain": [
       "(<Figure size 216x216 with 1 Axes>, [<Axes3DSubplot: title={'center': 's'}>])"
      ]
     },
     "execution_count": 1,
     "metadata": {},
     "output_type": "execute_result"
    },
    {
     "data": {
      "image/png": "[encoded data removed]",
      "text/plain": [
       "<Figure size 216x216 with 1 Axes>"
      ]
     },
     "metadata": {
      "needs_background": "light"
     },
     "output_type": "display_data"
    }
   ],
   "source": [
    "# Import packages\n",
    "import netplotbrain\n",
    "import matplotlib.pyplot as plt\n",
    "\n",
    "netplotbrain.plot(template='MNI152NLin6Asym',\n",
    "                  template_style=['surface', 'filled', 'cloudy', 'glass'],\n",
    "                  view='A',\n",
    "                  arrowaxis=None,\n",
    "                  subtitles=['surface', 'filled', 'cloudy', 'glass'])"
   ]
  }
 ],
 "metadata": {
  "jupytext": {
   "cell_metadata_filter": "-all",
   "main_language": "python",
   "notebook_metadata_filter": "-all"
  },
  "language_info": {
   "codemirror_mode": {
    "name": "ipython",
    "version": 3
   },
   "file_extension": ".py",
   "mimetype": "text/x-python",
   "name": "python",
   "nbconvert_exporter": "python",
   "pygments_lexer": "ipython3",
   "version": "3.9.12"
  }
 },
 "nbformat": 4,
 "nbformat_minor": 5
}
