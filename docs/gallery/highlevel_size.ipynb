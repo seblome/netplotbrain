{
 "cells": [
  {
   "cell_type": "markdown",
   "id": "be2489db",
   "metadata": {},
   "source": [
    " \n",
    "# Node properties: size\n",
    "\n",
    "Netplotbrain allows for specifying different figure properties by only specifyign the column name.\n",
    "\n",
    "Below we demonstrate how node_size can change based on different columns in the nodes dataframe.\n",
    "\n",
    "The key lines of code here are when:\n",
    "\n",
    "`node_size='centrality_measure1'`\n",
    "\n",
    "and\n",
    "\n",
    "`node_size='centrality_measure2'`\n",
    "\n",
    "These columns could be called anything such as \"module_degree_zscore\" or \"efficiency\""
   ]
  }
 ],
 "metadata": {
  "jupytext": {
   "cell_metadata_filter": "-all",
   "main_language": "python",
   "notebook_metadata_filter": "-all"
  },
  "language_info": {
   "codemirror_mode": {
    "name": "ipython",
    "version": 3
   },
   "file_extension": ".py",
   "mimetype": "text/x-python",
   "name": "python",
   "nbconvert_exporter": "python",
   "pygments_lexer": "ipython3",
   "version": "3.9.12"
  }
 },
 "nbformat": 4,
 "nbformat_minor": 5
}
