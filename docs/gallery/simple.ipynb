{
 "cells": [
  {
   "cell_type": "markdown",
   "id": "0431c991",
   "metadata": {},
   "source": [
    " \n",
    "# Simple plot\n",
    "\n",
    "[Open interactive notebook in Binder](https://mybinder.org/v2/gh/wiheto/netplotbrain/main?filepath=docs/gallery/simple.ipynb)\n",
    "Below, we load some test data and only specify the template space we would like it plotted in."
   ]
  },
  {
   "cell_type": "code",
   "execution_count": 1,
   "id": "61c6ed4e",
   "metadata": {
    "execution": {
     "iopub.execute_input": "2023-06-13T13:26:14.332762Z",
     "iopub.status.busy": "2023-06-13T13:26:14.332298Z",
     "iopub.status.idle": "2023-06-13T13:26:23.993755Z",
     "shell.execute_reply": "2023-06-13T13:26:23.992707Z"
    }
   },
   "outputs": [],
   "source": [
    "# Load imports\n",
    "import netplotbrain\n",
    "import pandas as pd"
   ]
  },
  {
   "cell_type": "code",
   "execution_count": 2,
   "id": "8d32fd2b",
   "metadata": {
    "execution": {
     "iopub.execute_input": "2023-06-13T13:26:23.998869Z",
     "iopub.status.busy": "2023-06-13T13:26:23.998542Z",
     "iopub.status.idle": "2023-06-13T13:26:24.004069Z",
     "shell.execute_reply": "2023-06-13T13:26:24.002844Z"
    }
   },
   "outputs": [],
   "source": [
    "#Path to node and edge example data on netplotbrain\n",
    "nodepath = 'https://raw.githubusercontent.com/wiheto/netplotbrain/main/examples/example_nodes.tsv'\n",
    "edgepath = 'https://raw.githubusercontent.com/wiheto/netplotbrain/main/examples/example_edges.tsv'"
   ]
  },
  {
   "cell_type": "code",
   "execution_count": 3,
   "id": "db2391fd",
   "metadata": {
    "execution": {
     "iopub.execute_input": "2023-06-13T13:26:24.008975Z",
     "iopub.status.busy": "2023-06-13T13:26:24.008530Z",
     "iopub.status.idle": "2023-06-13T13:26:24.306478Z",
     "shell.execute_reply": "2023-06-13T13:26:24.305377Z"
    }
   },
   "outputs": [
    {
     "data": {
      "text/html": [
       "<div>\n",
       "<style scoped>\n",
       "    .dataframe tbody tr th:only-of-type {\n",
       "        vertical-align: middle;\n",
       "    }\n",
       "\n",
       "    .dataframe tbody tr th {\n",
       "        vertical-align: top;\n",
       "    }\n",
       "\n",
       "    .dataframe thead th {\n",
       "        text-align: right;\n",
       "    }\n",
       "</style>\n",
       "<table border=\"1\" class=\"dataframe\">\n",
       "  <thead>\n",
       "    <tr style=\"text-align: right;\">\n",
       "      <th></th>\n",
       "      <th>x</th>\n",
       "      <th>y</th>\n",
       "      <th>z</th>\n",
       "      <th>centrality_measure1</th>\n",
       "      <th>centrality_measure2</th>\n",
       "      <th>community</th>\n",
       "    </tr>\n",
       "  </thead>\n",
       "  <tbody>\n",
       "    <tr>\n",
       "      <th>0</th>\n",
       "      <td>-50</td>\n",
       "      <td>-55</td>\n",
       "      <td>-30</td>\n",
       "      <td>0.5</td>\n",
       "      <td>0.7</td>\n",
       "      <td>Default</td>\n",
       "    </tr>\n",
       "    <tr>\n",
       "      <th>1</th>\n",
       "      <td>-50</td>\n",
       "      <td>15</td>\n",
       "      <td>-30</td>\n",
       "      <td>0.2</td>\n",
       "      <td>0.7</td>\n",
       "      <td>Default</td>\n",
       "    </tr>\n",
       "    <tr>\n",
       "      <th>2</th>\n",
       "      <td>-25</td>\n",
       "      <td>-90</td>\n",
       "      <td>-30</td>\n",
       "      <td>0.3</td>\n",
       "      <td>0.6</td>\n",
       "      <td>Salience</td>\n",
       "    </tr>\n",
       "    <tr>\n",
       "      <th>3</th>\n",
       "      <td>-25</td>\n",
       "      <td>-20</td>\n",
       "      <td>-30</td>\n",
       "      <td>0.3</td>\n",
       "      <td>0.9</td>\n",
       "      <td>Default</td>\n",
       "    </tr>\n",
       "    <tr>\n",
       "      <th>4</th>\n",
       "      <td>-25</td>\n",
       "      <td>15</td>\n",
       "      <td>-30</td>\n",
       "      <td>0.3</td>\n",
       "      <td>0.5</td>\n",
       "      <td>Salience</td>\n",
       "    </tr>\n",
       "  </tbody>\n",
       "</table>\n",
       "</div>"
      ],
      "text/plain": [
       "    x   y   z  centrality_measure1  centrality_measure2 community\n",
       "0 -50 -55 -30                  0.5                  0.7   Default\n",
       "1 -50  15 -30                  0.2                  0.7   Default\n",
       "2 -25 -90 -30                  0.3                  0.6  Salience\n",
       "3 -25 -20 -30                  0.3                  0.9   Default\n",
       "4 -25  15 -30                  0.3                  0.5  Salience"
      ]
     },
     "execution_count": 3,
     "metadata": {},
     "output_type": "execute_result"
    }
   ],
   "source": [
    "#Example node and edges dataframes included with package\n",
    "nodes = pd.read_csv(nodepath, sep='\\t', index_col=0)\n",
    "# peak at first lines of nodes dataframe\n",
    "nodes.head()"
   ]
  },
  {
   "cell_type": "code",
   "execution_count": 4,
   "id": "6a2bbba2",
   "metadata": {
    "execution": {
     "iopub.execute_input": "2023-06-13T13:26:24.313965Z",
     "iopub.status.busy": "2023-06-13T13:26:24.313606Z",
     "iopub.status.idle": "2023-06-13T13:26:24.571277Z",
     "shell.execute_reply": "2023-06-13T13:26:24.570264Z"
    }
   },
   "outputs": [
    {
     "data": {
      "text/html": [
       "<div>\n",
       "<style scoped>\n",
       "    .dataframe tbody tr th:only-of-type {\n",
       "        vertical-align: middle;\n",
       "    }\n",
       "\n",
       "    .dataframe tbody tr th {\n",
       "        vertical-align: top;\n",
       "    }\n",
       "\n",
       "    .dataframe thead th {\n",
       "        text-align: right;\n",
       "    }\n",
       "</style>\n",
       "<table border=\"1\" class=\"dataframe\">\n",
       "  <thead>\n",
       "    <tr style=\"text-align: right;\">\n",
       "      <th></th>\n",
       "      <th>i</th>\n",
       "      <th>j</th>\n",
       "      <th>weight</th>\n",
       "    </tr>\n",
       "  </thead>\n",
       "  <tbody>\n",
       "    <tr>\n",
       "      <th>0</th>\n",
       "      <td>4</td>\n",
       "      <td>29</td>\n",
       "      <td>0.1</td>\n",
       "    </tr>\n",
       "    <tr>\n",
       "      <th>1</th>\n",
       "      <td>8</td>\n",
       "      <td>21</td>\n",
       "      <td>0.3</td>\n",
       "    </tr>\n",
       "    <tr>\n",
       "      <th>2</th>\n",
       "      <td>9</td>\n",
       "      <td>20</td>\n",
       "      <td>0.3</td>\n",
       "    </tr>\n",
       "    <tr>\n",
       "      <th>3</th>\n",
       "      <td>16</td>\n",
       "      <td>29</td>\n",
       "      <td>0.1</td>\n",
       "    </tr>\n",
       "    <tr>\n",
       "      <th>4</th>\n",
       "      <td>0</td>\n",
       "      <td>2</td>\n",
       "      <td>0.3</td>\n",
       "    </tr>\n",
       "  </tbody>\n",
       "</table>\n",
       "</div>"
      ],
      "text/plain": [
       "    i   j  weight\n",
       "0   4  29     0.1\n",
       "1   8  21     0.3\n",
       "2   9  20     0.3\n",
       "3  16  29     0.1\n",
       "4   0   2     0.3"
      ]
     },
     "execution_count": 4,
     "metadata": {},
     "output_type": "execute_result"
    }
   ],
   "source": [
    "edges = pd.read_csv(edgepath, sep='\\t', index_col=0)\n",
    "# peak at first lines of edges dataframe\n",
    "edges.head()"
   ]
  },
  {
   "cell_type": "code",
   "execution_count": 5,
   "id": "f47e1dba",
   "metadata": {
    "execution": {
     "iopub.execute_input": "2023-06-13T13:26:24.576737Z",
     "iopub.status.busy": "2023-06-13T13:26:24.576426Z",
     "iopub.status.idle": "2023-06-13T13:26:38.516704Z",
     "shell.execute_reply": "2023-06-13T13:26:38.515783Z"
    },
    "lines_to_next_cell": 2
   },
   "outputs": [
    {
     "data": {
      "text/plain": [
       "(<Figure size 216x216 with 1 Axes>, [<Axes3D: title={'center': 'Left'}>])"
      ]
     },
     "execution_count": 5,
     "metadata": {},
     "output_type": "execute_result"
    },
    {
     "data": {
      "image/png": "[encoded data removed]",
      "text/plain": [
       "<Figure size 216x216 with 1 Axes>"
      ]
     },
     "metadata": {
      "needs_background": "light"
     },
     "output_type": "display_data"
    }
   ],
   "source": [
    "netplotbrain.plot(template='MNI152NLin2009cAsym',\n",
    "                  nodes=nodes,\n",
    "                  edges=edges)"
   ]
  }
 ],
 "metadata": {
  "jupytext": {
   "cell_metadata_filter": "-all",
   "formats": "ipynb,py:light"
  },
  "kernelspec": {
   "display_name": "Python 3 (ipykernel)",
   "language": "python",
   "name": "python3"
  },
  "language_info": {
   "codemirror_mode": {
    "name": "ipython",
    "version": 3
   },
   "file_extension": ".py",
   "mimetype": "text/x-python",
   "name": "python",
   "nbconvert_exporter": "python",
   "pygments_lexer": "ipython3",
   "version": "3.9.12"
  }
 },
 "nbformat": 4,
 "nbformat_minor": 5
}
