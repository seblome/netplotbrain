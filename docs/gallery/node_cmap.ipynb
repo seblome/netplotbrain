{
 "cells": [
  {
   "cell_type": "markdown",
   "id": "db86a330",
   "metadata": {},
   "source": [
    " \n",
    "# Specifying node colormaps\n",
    "\n",
    "[Open interactive notebook in Binder](https://mybinder.org/v2/gh/wiheto/netplotbrain/main?filepath=docs/gallery/node_cmap.ipynb)\n",
    "\n",
    "See [example about colors for different way the color columns in the dataframe can be specified](https://www.netplotbrain.org/gallery/specifying_node_color/) \n",
    "\n",
    "There are two different ways to specify colormaps. This holds for both nodes (node_cmap) edges (edge_cmap)\n",
    "\n",
    "The first way entails that you specify a matplotlib colormap (e.g. Set1, Inferno, (see options [here](https://matplotlib.org/stable/tutorials/colors/colormaps.html)) \n",
    "\n",
    "The second way is to provide a list of matplotlib colors to create your own colormap (see named color options [here](https://matplotlib.org/stable/gallery/color/named_colors.html))\n",
    "\n",
    "This notebook will shows an example of each of these. We will use 100 ROIs from the Schaefer atlas and color the 7 Yeo networks"
   ]
  },
  {
   "cell_type": "code",
   "execution_count": 1,
   "id": "4a819e81",
   "metadata": {
    "execution": {
     "iopub.execute_input": "2023-06-13T13:14:57.301281Z",
     "iopub.status.busy": "2023-06-13T13:14:57.300998Z",
     "iopub.status.idle": "2023-06-13T13:15:03.778700Z",
     "shell.execute_reply": "2023-06-13T13:15:03.777912Z"
    }
   },
   "outputs": [],
   "source": [
    "# Import necessary packages \n",
    "import netplotbrain\n",
    "import pandas as pd\n",
    "import templateflow.api as tf"
   ]
  },
  {
   "cell_type": "code",
   "execution_count": 2,
   "id": "1f1fa414",
   "metadata": {
    "execution": {
     "iopub.execute_input": "2023-06-13T13:15:03.782369Z",
     "iopub.status.busy": "2023-06-13T13:15:03.782148Z",
     "iopub.status.idle": "2023-06-13T13:15:03.822468Z",
     "shell.execute_reply": "2023-06-13T13:15:03.821665Z"
    }
   },
   "outputs": [
    {
     "data": {
      "text/html": [
       "<div>\n",
       "<style scoped>\n",
       "    .dataframe tbody tr th:only-of-type {\n",
       "        vertical-align: middle;\n",
       "    }\n",
       "\n",
       "    .dataframe tbody tr th {\n",
       "        vertical-align: top;\n",
       "    }\n",
       "\n",
       "    .dataframe thead th {\n",
       "        text-align: right;\n",
       "    }\n",
       "</style>\n",
       "<table border=\"1\" class=\"dataframe\">\n",
       "  <thead>\n",
       "    <tr style=\"text-align: right;\">\n",
       "      <th></th>\n",
       "      <th>index</th>\n",
       "      <th>name</th>\n",
       "      <th>color</th>\n",
       "    </tr>\n",
       "  </thead>\n",
       "  <tbody>\n",
       "    <tr>\n",
       "      <th>0</th>\n",
       "      <td>1</td>\n",
       "      <td>7Networks_LH_Vis_1</td>\n",
       "      <td>#781283</td>\n",
       "    </tr>\n",
       "    <tr>\n",
       "      <th>1</th>\n",
       "      <td>2</td>\n",
       "      <td>7Networks_LH_Vis_2</td>\n",
       "      <td>#781284</td>\n",
       "    </tr>\n",
       "    <tr>\n",
       "      <th>2</th>\n",
       "      <td>3</td>\n",
       "      <td>7Networks_LH_Vis_3</td>\n",
       "      <td>#781285</td>\n",
       "    </tr>\n",
       "    <tr>\n",
       "      <th>3</th>\n",
       "      <td>4</td>\n",
       "      <td>7Networks_LH_Vis_4</td>\n",
       "      <td>#781287</td>\n",
       "    </tr>\n",
       "    <tr>\n",
       "      <th>4</th>\n",
       "      <td>5</td>\n",
       "      <td>7Networks_LH_Vis_5</td>\n",
       "      <td>#781288</td>\n",
       "    </tr>\n",
       "  </tbody>\n",
       "</table>\n",
       "</div>"
      ],
      "text/plain": [
       "   index                name    color\n",
       "0      1  7Networks_LH_Vis_1  #781283\n",
       "1      2  7Networks_LH_Vis_2  #781284\n",
       "2      3  7Networks_LH_Vis_3  #781285\n",
       "3      4  7Networks_LH_Vis_4  #781287\n",
       "4      5  7Networks_LH_Vis_5  #781288"
      ]
     },
     "execution_count": 2,
     "metadata": {},
     "output_type": "execute_result"
    }
   ],
   "source": [
    "# Load templateflow information about the Schaefer atlas\n",
    "atlasinfo = tf.get(template='MNI152NLin2009cAsym',\n",
    "                   atlas='Schaefer2018',\n",
    "                   desc='100Parcels7Networks',\n",
    "                   extension='.tsv')\n",
    "atlas_df = pd.read_csv(str(atlasinfo), sep='\\t')\n",
    "atlas_df.head()"
   ]
  },
  {
   "cell_type": "code",
   "execution_count": 3,
   "id": "297d83d2",
   "metadata": {
    "execution": {
     "iopub.execute_input": "2023-06-13T13:15:03.826777Z",
     "iopub.status.busy": "2023-06-13T13:15:03.826515Z",
     "iopub.status.idle": "2023-06-13T13:15:03.838438Z",
     "shell.execute_reply": "2023-06-13T13:15:03.837764Z"
    }
   },
   "outputs": [
    {
     "data": {
      "text/html": [
       "<div>\n",
       "<style scoped>\n",
       "    .dataframe tbody tr th:only-of-type {\n",
       "        vertical-align: middle;\n",
       "    }\n",
       "\n",
       "    .dataframe tbody tr th {\n",
       "        vertical-align: top;\n",
       "    }\n",
       "\n",
       "    .dataframe thead th {\n",
       "        text-align: right;\n",
       "    }\n",
       "</style>\n",
       "<table border=\"1\" class=\"dataframe\">\n",
       "  <thead>\n",
       "    <tr style=\"text-align: right;\">\n",
       "      <th></th>\n",
       "      <th>index</th>\n",
       "      <th>name</th>\n",
       "      <th>color</th>\n",
       "      <th>network</th>\n",
       "    </tr>\n",
       "  </thead>\n",
       "  <tbody>\n",
       "    <tr>\n",
       "      <th>0</th>\n",
       "      <td>1</td>\n",
       "      <td>7Networks_LH_Vis_1</td>\n",
       "      <td>#781283</td>\n",
       "      <td>Vis</td>\n",
       "    </tr>\n",
       "    <tr>\n",
       "      <th>1</th>\n",
       "      <td>2</td>\n",
       "      <td>7Networks_LH_Vis_2</td>\n",
       "      <td>#781284</td>\n",
       "      <td>Vis</td>\n",
       "    </tr>\n",
       "    <tr>\n",
       "      <th>2</th>\n",
       "      <td>3</td>\n",
       "      <td>7Networks_LH_Vis_3</td>\n",
       "      <td>#781285</td>\n",
       "      <td>Vis</td>\n",
       "    </tr>\n",
       "    <tr>\n",
       "      <th>3</th>\n",
       "      <td>4</td>\n",
       "      <td>7Networks_LH_Vis_4</td>\n",
       "      <td>#781287</td>\n",
       "      <td>Vis</td>\n",
       "    </tr>\n",
       "    <tr>\n",
       "      <th>4</th>\n",
       "      <td>5</td>\n",
       "      <td>7Networks_LH_Vis_5</td>\n",
       "      <td>#781288</td>\n",
       "      <td>Vis</td>\n",
       "    </tr>\n",
       "  </tbody>\n",
       "</table>\n",
       "</div>"
      ],
      "text/plain": [
       "   index                name    color network\n",
       "0      1  7Networks_LH_Vis_1  #781283     Vis\n",
       "1      2  7Networks_LH_Vis_2  #781284     Vis\n",
       "2      3  7Networks_LH_Vis_3  #781285     Vis\n",
       "3      4  7Networks_LH_Vis_4  #781287     Vis\n",
       "4      5  7Networks_LH_Vis_5  #781288     Vis"
      ]
     },
     "execution_count": 3,
     "metadata": {},
     "output_type": "execute_result"
    }
   ],
   "source": [
    "# Create a column called \"network\" by extracting the relevant information from the column \"name\"\n",
    "atlas_df['network'] = list(map(lambda x: x.split('_')[2], atlas_df.name.values))\n",
    "atlas_df.head()"
   ]
  },
  {
   "cell_type": "code",
   "execution_count": 4,
   "id": "181f8644",
   "metadata": {
    "execution": {
     "iopub.execute_input": "2023-06-13T13:15:03.842480Z",
     "iopub.status.busy": "2023-06-13T13:15:03.842242Z",
     "iopub.status.idle": "2023-06-13T13:15:03.846121Z",
     "shell.execute_reply": "2023-06-13T13:15:03.845501Z"
    }
   },
   "outputs": [],
   "source": [
    "# Define the TemplateFlow parcels that we want to plot \n",
    "nodes = {'template': 'MNI152NLin2009cAsym',\n",
    "         'atlas': 'Schaefer2018',\n",
    "         'desc': '100Parcels7Networks',\n",
    "         'resolution': 1}"
   ]
  },
  {
   "cell_type": "code",
   "execution_count": 5,
   "id": "678c91a1",
   "metadata": {
    "execution": {
     "iopub.execute_input": "2023-06-13T13:15:03.850156Z",
     "iopub.status.busy": "2023-06-13T13:15:03.849444Z",
     "iopub.status.idle": "2023-06-13T13:15:55.559027Z",
     "shell.execute_reply": "2023-06-13T13:15:55.557220Z"
    }
   },
   "outputs": [
    {
     "data": {
      "text/plain": [
       "(<Figure size 216x252 with 2 Axes>,\n",
       " [<Axes3D: title={'center': 'Left'}>, <Axes: >])"
      ]
     },
     "execution_count": 5,
     "metadata": {},
     "output_type": "execute_result"
    },
    {
     "data": {
      "image/png": "[encoded data removed]",
      "text/plain": [
       "<Figure size 216x252 with 2 Axes>"
      ]
     },
     "metadata": {
      "needs_background": "light"
     },
     "output_type": "display_data"
    }
   ],
   "source": [
    "# Plot with a the Set2 colormap\n",
    "netplotbrain.plot(nodes=nodes, \n",
    "                  node_type='parcels', \n",
    "                  nodes_df=atlas_df, \n",
    "                  node_color='network', \n",
    "                  node_cmap='Set2')"
   ]
  },
  {
   "cell_type": "code",
   "execution_count": 6,
   "id": "fa352108",
   "metadata": {
    "execution": {
     "iopub.execute_input": "2023-06-13T13:15:55.565468Z",
     "iopub.status.busy": "2023-06-13T13:15:55.565065Z",
     "iopub.status.idle": "2023-06-13T13:15:55.572093Z",
     "shell.execute_reply": "2023-06-13T13:15:55.570136Z"
    }
   },
   "outputs": [],
   "source": [
    "# Create custom colormap\n",
    "node_cmap = ['blue', 'red', 'green', 'black', 'purple', 'yellow', 'orange']"
   ]
  },
  {
   "cell_type": "code",
   "execution_count": 7,
   "id": "c2a7d402",
   "metadata": {
    "execution": {
     "iopub.execute_input": "2023-06-13T13:15:55.578640Z",
     "iopub.status.busy": "2023-06-13T13:15:55.578234Z",
     "iopub.status.idle": "2023-06-13T13:16:58.577407Z",
     "shell.execute_reply": "2023-06-13T13:16:58.576076Z"
    }
   },
   "outputs": [
    {
     "data": {
      "text/plain": [
       "(<Figure size 216x252 with 2 Axes>,\n",
       " [<Axes3D: title={'center': 'Left'}>, <Axes: >])"
      ]
     },
     "execution_count": 7,
     "metadata": {},
     "output_type": "execute_result"
    },
    {
     "data": {
      "image/png": "[encoded data removed]",
      "text/plain": [
       "<Figure size 216x252 with 2 Axes>"
      ]
     },
     "metadata": {
      "needs_background": "light"
     },
     "output_type": "display_data"
    }
   ],
   "source": [
    "# Plot with a the custom colormap\n",
    "netplotbrain.plot(nodes=nodes, \n",
    "                  node_type='parcels', \n",
    "                  nodes_df=atlas_df, \n",
    "                  node_color='network', \n",
    "                  node_cmap=node_cmap)"
   ]
  }
 ],
 "metadata": {
  "jupytext": {
   "cell_metadata_filter": "-all",
   "main_language": "python",
   "notebook_metadata_filter": "-all"
  },
  "language_info": {
   "codemirror_mode": {
    "name": "ipython",
    "version": 3
   },
   "file_extension": ".py",
   "mimetype": "text/x-python",
   "name": "python",
   "nbconvert_exporter": "python",
   "pygments_lexer": "ipython3",
   "version": "3.9.12"
  }
 },
 "nbformat": 4,
 "nbformat_minor": 5
}
