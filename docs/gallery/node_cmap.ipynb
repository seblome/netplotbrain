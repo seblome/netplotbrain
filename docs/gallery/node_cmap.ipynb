{
 "cells": [
  {
   "cell_type": "markdown",
   "id": "7072657e",
   "metadata": {},
   "source": [
    " \n",
    "# Specifying node colormaps\n",
    "\n",
    "[Open interactive notebook in Binder](https://mybinder.org/v2/gh/wiheto/netplotbrain/main?filepath=docs/gallery/node_cmap.ipynb)\n",
    "\n",
    "See [example about colors for different way the color columns in the dataframe can be specified](https://www.netplotbrain.org/gallery/specifying_node_color/) \n",
    "\n",
    "There are two different ways to specify colormaps. This holds for both nodes (node_cmap) edges (edge_cmap)\n",
    "\n",
    "The first way entails that you specify a matplotlib colormap (e.g. Set1, Inferno, (see options [here](https://matplotlib.org/stable/tutorials/colors/colormaps.html)) \n",
    "\n",
    "The second way is to provide a list of matplotlib colors to create your own colormap (see named color options [here](https://matplotlib.org/stable/gallery/color/named_colors.html))\n",
    "\n",
    "This notebook will shows an example of each of these. We will use 100 ROIs from the Schaefer atlas and color the 7 Yeo networks"
   ]
  },
  {
   "cell_type": "code",
   "execution_count": 1,
   "id": "e2ccbd17",
   "metadata": {
    "execution": {
     "iopub.execute_input": "2022-11-30T20:30:52.411604Z",
     "iopub.status.busy": "2022-11-30T20:30:52.411142Z",
     "iopub.status.idle": "2022-11-30T20:30:58.843679Z",
     "shell.execute_reply": "2022-11-30T20:30:58.843230Z"
    }
   },
   "outputs": [],
   "source": [
    "# Import necessary packages \n",
    "import netplotbrain\n",
    "import pandas as pd\n",
    "import templateflow.api as tf"
   ]
  },
  {
   "cell_type": "code",
   "execution_count": 2,
   "id": "c15f39fc",
   "metadata": {
    "execution": {
     "iopub.execute_input": "2022-11-30T20:30:58.845913Z",
     "iopub.status.busy": "2022-11-30T20:30:58.845799Z",
     "iopub.status.idle": "2022-11-30T20:30:58.866560Z",
     "shell.execute_reply": "2022-11-30T20:30:58.866153Z"
    }
   },
   "outputs": [
    {
     "data": {
      "text/html": [
       "<div>\n",
       "<style scoped>\n",
       "    .dataframe tbody tr th:only-of-type {\n",
       "        vertical-align: middle;\n",
       "    }\n",
       "\n",
       "    .dataframe tbody tr th {\n",
       "        vertical-align: top;\n",
       "    }\n",
       "\n",
       "    .dataframe thead th {\n",
       "        text-align: right;\n",
       "    }\n",
       "</style>\n",
       "<table border=\"1\" class=\"dataframe\">\n",
       "  <thead>\n",
       "    <tr style=\"text-align: right;\">\n",
       "      <th></th>\n",
       "      <th>index</th>\n",
       "      <th>name</th>\n",
       "      <th>color</th>\n",
       "    </tr>\n",
       "  </thead>\n",
       "  <tbody>\n",
       "    <tr>\n",
       "      <th>0</th>\n",
       "      <td>1</td>\n",
       "      <td>7Networks_LH_Vis_1</td>\n",
       "      <td>#781283</td>\n",
       "    </tr>\n",
       "    <tr>\n",
       "      <th>1</th>\n",
       "      <td>2</td>\n",
       "      <td>7Networks_LH_Vis_2</td>\n",
       "      <td>#781284</td>\n",
       "    </tr>\n",
       "    <tr>\n",
       "      <th>2</th>\n",
       "      <td>3</td>\n",
       "      <td>7Networks_LH_Vis_3</td>\n",
       "      <td>#781285</td>\n",
       "    </tr>\n",
       "    <tr>\n",
       "      <th>3</th>\n",
       "      <td>4</td>\n",
       "      <td>7Networks_LH_Vis_4</td>\n",
       "      <td>#781287</td>\n",
       "    </tr>\n",
       "    <tr>\n",
       "      <th>4</th>\n",
       "      <td>5</td>\n",
       "      <td>7Networks_LH_Vis_5</td>\n",
       "      <td>#781288</td>\n",
       "    </tr>\n",
       "  </tbody>\n",
       "</table>\n",
       "</div>"
      ],
      "text/plain": [
       "   index                name    color\n",
       "0      1  7Networks_LH_Vis_1  #781283\n",
       "1      2  7Networks_LH_Vis_2  #781284\n",
       "2      3  7Networks_LH_Vis_3  #781285\n",
       "3      4  7Networks_LH_Vis_4  #781287\n",
       "4      5  7Networks_LH_Vis_5  #781288"
      ]
     },
     "execution_count": 2,
     "metadata": {},
     "output_type": "execute_result"
    }
   ],
   "source": [
    "# Load templateflow information about the Schaefer atlas\n",
    "atlasinfo = tf.get(template='MNI152NLin2009cAsym',\n",
    "                   atlas='Schaefer2018',\n",
    "                   desc='100Parcels7Networks',\n",
    "                   extension='.tsv')\n",
    "atlas_df = pd.read_csv(str(atlasinfo), sep='\\t')\n",
    "atlas_df.head()"
   ]
  },
  {
   "cell_type": "code",
   "execution_count": 3,
   "id": "efdf26cd",
   "metadata": {
    "execution": {
     "iopub.execute_input": "2022-11-30T20:30:58.868324Z",
     "iopub.status.busy": "2022-11-30T20:30:58.868200Z",
     "iopub.status.idle": "2022-11-30T20:30:58.874647Z",
     "shell.execute_reply": "2022-11-30T20:30:58.874334Z"
    }
   },
   "outputs": [
    {
     "data": {
      "text/html": [
       "<div>\n",
       "<style scoped>\n",
       "    .dataframe tbody tr th:only-of-type {\n",
       "        vertical-align: middle;\n",
       "    }\n",
       "\n",
       "    .dataframe tbody tr th {\n",
       "        vertical-align: top;\n",
       "    }\n",
       "\n",
       "    .dataframe thead th {\n",
       "        text-align: right;\n",
       "    }\n",
       "</style>\n",
       "<table border=\"1\" class=\"dataframe\">\n",
       "  <thead>\n",
       "    <tr style=\"text-align: right;\">\n",
       "      <th></th>\n",
       "      <th>index</th>\n",
       "      <th>name</th>\n",
       "      <th>color</th>\n",
       "      <th>network</th>\n",
       "    </tr>\n",
       "  </thead>\n",
       "  <tbody>\n",
       "    <tr>\n",
       "      <th>0</th>\n",
       "      <td>1</td>\n",
       "      <td>7Networks_LH_Vis_1</td>\n",
       "      <td>#781283</td>\n",
       "      <td>Vis</td>\n",
       "    </tr>\n",
       "    <tr>\n",
       "      <th>1</th>\n",
       "      <td>2</td>\n",
       "      <td>7Networks_LH_Vis_2</td>\n",
       "      <td>#781284</td>\n",
       "      <td>Vis</td>\n",
       "    </tr>\n",
       "    <tr>\n",
       "      <th>2</th>\n",
       "      <td>3</td>\n",
       "      <td>7Networks_LH_Vis_3</td>\n",
       "      <td>#781285</td>\n",
       "      <td>Vis</td>\n",
       "    </tr>\n",
       "    <tr>\n",
       "      <th>3</th>\n",
       "      <td>4</td>\n",
       "      <td>7Networks_LH_Vis_4</td>\n",
       "      <td>#781287</td>\n",
       "      <td>Vis</td>\n",
       "    </tr>\n",
       "    <tr>\n",
       "      <th>4</th>\n",
       "      <td>5</td>\n",
       "      <td>7Networks_LH_Vis_5</td>\n",
       "      <td>#781288</td>\n",
       "      <td>Vis</td>\n",
       "    </tr>\n",
       "  </tbody>\n",
       "</table>\n",
       "</div>"
      ],
      "text/plain": [
       "   index                name    color network\n",
       "0      1  7Networks_LH_Vis_1  #781283     Vis\n",
       "1      2  7Networks_LH_Vis_2  #781284     Vis\n",
       "2      3  7Networks_LH_Vis_3  #781285     Vis\n",
       "3      4  7Networks_LH_Vis_4  #781287     Vis\n",
       "4      5  7Networks_LH_Vis_5  #781288     Vis"
      ]
     },
     "execution_count": 3,
     "metadata": {},
     "output_type": "execute_result"
    }
   ],
   "source": [
    "# Create a column called \"network\" by extracting the relevant information from the column \"name\"\n",
    "atlas_df['network'] = list(map(lambda x: x.split('_')[2], atlas_df.name.values))\n",
    "atlas_df.head()"
   ]
  },
  {
   "cell_type": "code",
   "execution_count": 4,
   "id": "1bc50bf3",
   "metadata": {
    "execution": {
     "iopub.execute_input": "2022-11-30T20:30:58.876327Z",
     "iopub.status.busy": "2022-11-30T20:30:58.876071Z",
     "iopub.status.idle": "2022-11-30T20:30:58.878147Z",
     "shell.execute_reply": "2022-11-30T20:30:58.877846Z"
    }
   },
   "outputs": [],
   "source": [
    "# Create custom colormap\n",
    "node_cmap = ['blue', 'red', 'green', 'black', 'purple', 'yellow', 'orange']"
   ]
  },
  {
   "cell_type": "code",
   "execution_count": 5,
   "id": "e2ef72cc",
   "metadata": {
    "execution": {
     "iopub.execute_input": "2022-11-30T20:30:58.879821Z",
     "iopub.status.busy": "2022-11-30T20:30:58.879597Z",
     "iopub.status.idle": "2022-11-30T20:30:58.881669Z",
     "shell.execute_reply": "2022-11-30T20:30:58.881382Z"
    }
   },
   "outputs": [],
   "source": [
    "# Define the TemplateFlow parcels that we want to plot \n",
    "nodes = {'template': 'MNI152NLin2009cAsym',\n",
    "         'atlas': 'Schaefer2018',\n",
    "         'desc': '100Parcels7Networks',\n",
    "         'resolution': 1}"
   ]
  },
  {
   "cell_type": "code",
   "execution_count": 6,
   "id": "a80ddcd2",
   "metadata": {
    "execution": {
     "iopub.execute_input": "2022-11-30T20:30:58.883281Z",
     "iopub.status.busy": "2022-11-30T20:30:58.883109Z",
     "iopub.status.idle": "2022-11-30T20:31:40.288575Z",
     "shell.execute_reply": "2022-11-30T20:31:40.288011Z"
    }
   },
   "outputs": [
    {
     "data": {
      "text/plain": [
       "(<Figure size 216x252 with 2 Axes>, [<Axes3DSubplot: >, <AxesSubplot: >])"
      ]
     },
     "execution_count": 6,
     "metadata": {},
     "output_type": "execute_result"
    },
    {
     "data": {
      "image/png": "[encoded data removed]",
      "text/plain": [
       "<Figure size 216x252 with 2 Axes>"
      ]
     },
     "metadata": {
      "needs_background": "light"
     },
     "output_type": "display_data"
    }
   ],
   "source": [
    "# Plot with a the Set2 colormap\n",
    "netplotbrain.plot(nodes=nodes, \n",
    "                  node_type='parcels', \n",
    "                  nodes_df=atlas_df, \n",
    "                  node_color='network', \n",
    "                  node_cmap='Set2')"
   ]
  },
  {
   "cell_type": "code",
   "execution_count": 7,
   "id": "2b7d4adf",
   "metadata": {
    "execution": {
     "iopub.execute_input": "2022-11-30T20:31:40.290983Z",
     "iopub.status.busy": "2022-11-30T20:31:40.290775Z",
     "iopub.status.idle": "2022-11-30T20:31:40.293491Z",
     "shell.execute_reply": "2022-11-30T20:31:40.292975Z"
    }
   },
   "outputs": [],
   "source": [
    "# Create custom colormap\n",
    "node_cmap = ['blue', 'red', 'green', 'black', 'purple', 'yellow', 'orange']"
   ]
  },
  {
   "cell_type": "code",
   "execution_count": 8,
   "id": "c1930520",
   "metadata": {
    "execution": {
     "iopub.execute_input": "2022-11-30T20:31:40.295831Z",
     "iopub.status.busy": "2022-11-30T20:31:40.295668Z",
     "iopub.status.idle": "2022-11-30T20:31:46.958582Z",
     "shell.execute_reply": "2022-11-30T20:31:46.958097Z"
    }
   },
   "outputs": [
    {
     "ename": "ValueError",
     "evalue": "'networks' is not a valid value for name; supported values are 'Accent', 'Accent_r', 'Blues', 'Blues_r', 'BrBG', 'BrBG_r', 'BuGn', 'BuGn_r', 'BuPu', 'BuPu_r', 'CMRmap', 'CMRmap_r', 'Dark2', 'Dark2_r', 'GnBu', 'GnBu_r', 'Greens', 'Greens_r', 'Greys', 'Greys_r', 'OrRd', 'OrRd_r', 'Oranges', 'Oranges_r', 'PRGn', 'PRGn_r', 'Paired', 'Paired_r', 'Pastel1', 'Pastel1_r', 'Pastel2', 'Pastel2_r', 'PiYG', 'PiYG_r', 'PuBu', 'PuBuGn', 'PuBuGn_r', 'PuBu_r', 'PuOr', 'PuOr_r', 'PuRd', 'PuRd_r', 'Purples', 'Purples_r', 'RdBu', 'RdBu_r', 'RdGy', 'RdGy_r', 'RdPu', 'RdPu_r', 'RdYlBu', 'RdYlBu_r', 'RdYlGn', 'RdYlGn_r', 'Reds', 'Reds_r', 'Set1', 'Set1_r', 'Set2', 'Set2_r', 'Set3', 'Set3_r', 'Spectral', 'Spectral_r', 'Wistia', 'Wistia_r', 'YlGn', 'YlGnBu', 'YlGnBu_r', 'YlGn_r', 'YlOrBr', 'YlOrBr_r', 'YlOrRd', 'YlOrRd_r', 'afmhot', 'afmhot_r', 'autumn', 'autumn_r', 'binary', 'binary_r', 'bone', 'bone_r', 'brg', 'brg_r', 'bwr', 'bwr_r', 'cividis', 'cividis_r', 'cool', 'cool_r', 'coolwarm', 'coolwarm_r', 'copper', 'copper_r', 'cubehelix', 'cubehelix_r', 'flag', 'flag_r', 'gist_earth', 'gist_earth_r', 'gist_gray', 'gist_gray_r', 'gist_heat', 'gist_heat_r', 'gist_ncar', 'gist_ncar_r', 'gist_rainbow', 'gist_rainbow_r', 'gist_stern', 'gist_stern_r', 'gist_yarg', 'gist_yarg_r', 'gnuplot', 'gnuplot2', 'gnuplot2_r', 'gnuplot_r', 'gray', 'gray_r', 'hot', 'hot_r', 'hsv', 'hsv_r', 'inferno', 'inferno_r', 'jet', 'jet_r', 'magma', 'magma_r', 'nipy_spectral', 'nipy_spectral_r', 'ocean', 'ocean_r', 'pink', 'pink_r', 'plasma', 'plasma_r', 'prism', 'prism_r', 'rainbow', 'rainbow_r', 'seismic', 'seismic_r', 'spring', 'spring_r', 'summer', 'summer_r', 'tab10', 'tab10_r', 'tab20', 'tab20_r', 'tab20b', 'tab20b_r', 'tab20c', 'tab20c_r', 'terrain', 'terrain_r', 'turbo', 'turbo_r', 'twilight', 'twilight_r', 'twilight_shifted', 'twilight_shifted_r', 'viridis', 'viridis_r', 'winter', 'winter_r'",
     "output_type": "error",
     "traceback": [
      "\u001b[0;31m---------------------------------------------------------------------------\u001b[0m",
      "\u001b[0;31mValueError\u001b[0m                                Traceback (most recent call last)",
      "Cell \u001b[0;32mIn [8], line 2\u001b[0m\n\u001b[1;32m      1\u001b[0m \u001b[38;5;66;03m# Plot with a the custom colormap\u001b[39;00m\n\u001b[0;32m----> 2\u001b[0m \u001b[43mnetplotbrain\u001b[49m\u001b[38;5;241;43m.\u001b[39;49m\u001b[43mplot\u001b[49m\u001b[43m(\u001b[49m\u001b[43mnodes\u001b[49m\u001b[38;5;241;43m=\u001b[39;49m\u001b[43mnodes\u001b[49m\u001b[43m,\u001b[49m\u001b[43m \u001b[49m\n\u001b[1;32m      3\u001b[0m \u001b[43m                  \u001b[49m\u001b[43mnode_type\u001b[49m\u001b[38;5;241;43m=\u001b[39;49m\u001b[38;5;124;43m'\u001b[39;49m\u001b[38;5;124;43mparcels\u001b[39;49m\u001b[38;5;124;43m'\u001b[39;49m\u001b[43m,\u001b[49m\u001b[43m \u001b[49m\n\u001b[1;32m      4\u001b[0m \u001b[43m                  \u001b[49m\u001b[43mnodes_df\u001b[49m\u001b[38;5;241;43m=\u001b[39;49m\u001b[43matlas_df\u001b[49m\u001b[43m,\u001b[49m\u001b[43m \u001b[49m\n\u001b[1;32m      5\u001b[0m \u001b[43m                  \u001b[49m\u001b[43mnode_color\u001b[49m\u001b[38;5;241;43m=\u001b[39;49m\u001b[38;5;124;43m'\u001b[39;49m\u001b[38;5;124;43mnetworks\u001b[39;49m\u001b[38;5;124;43m'\u001b[39;49m\u001b[43m,\u001b[49m\u001b[43m \u001b[49m\n\u001b[1;32m      6\u001b[0m \u001b[43m                  \u001b[49m\u001b[43mnode_cmap\u001b[49m\u001b[38;5;241;43m=\u001b[39;49m\u001b[43mnode_cmap\u001b[49m\u001b[43m)\u001b[49m\n",
      "File \u001b[0;32m~/packages/netplotbrain/netplotbrain/plot.py:212\u001b[0m, in \u001b[0;36mplot\u001b[0;34m(nodes, fig, ax, view, edge_weights, frames, edges, template, network, edge_color, node_size, node_color, node_type, hemisphere, highlight_nodes, highlight_edges, **kwargs)\u001b[0m\n\u001b[1;32m    209\u001b[0m         _plot_nodes(ax, nodes_frame, node_color\u001b[38;5;241m=\u001b[39mnode_color,\n\u001b[1;32m    210\u001b[0m                     node_size\u001b[38;5;241m=\u001b[39mnode_size, \u001b[38;5;241m*\u001b[39m\u001b[38;5;241m*\u001b[39mprofile)\n\u001b[1;32m    211\u001b[0m     \u001b[38;5;28;01melif\u001b[39;00m node_type \u001b[38;5;241m==\u001b[39m \u001b[38;5;124m'\u001b[39m\u001b[38;5;124mparcels\u001b[39m\u001b[38;5;124m'\u001b[39m:\n\u001b[0;32m--> 212\u001b[0m         \u001b[43m_plot_parcels\u001b[49m\u001b[43m(\u001b[49m\u001b[43max\u001b[49m\u001b[43m,\u001b[49m\u001b[43m \u001b[49m\u001b[43mnodeimg\u001b[49m\u001b[43m,\u001b[49m\u001b[43m \u001b[49m\u001b[43mcmap\u001b[49m\u001b[38;5;241;43m=\u001b[39;49m\u001b[43mnode_color\u001b[49m\u001b[43m,\u001b[49m\n\u001b[1;32m    213\u001b[0m \u001b[43m                      \u001b[49m\u001b[43mhemisphere\u001b[49m\u001b[38;5;241;43m=\u001b[39;49m\u001b[43mhemi_frame\u001b[49m\u001b[43m,\u001b[49m\u001b[43m \u001b[49m\u001b[38;5;241;43m*\u001b[39;49m\u001b[38;5;241;43m*\u001b[39;49m\u001b[43mprofile\u001b[49m\u001b[43m)\u001b[49m\n\u001b[1;32m    214\u001b[0m \u001b[38;5;28;01mif\u001b[39;00m edges \u001b[38;5;129;01mis\u001b[39;00m \u001b[38;5;129;01mnot\u001b[39;00m \u001b[38;5;28;01mNone\u001b[39;00m \u001b[38;5;129;01mand\u001b[39;00m viewtype[fi]\u001b[38;5;241m==\u001b[39m\u001b[38;5;124m'\u001b[39m\u001b[38;5;124mb\u001b[39m\u001b[38;5;124m'\u001b[39m:\n\u001b[1;32m    215\u001b[0m     edges_frame \u001b[38;5;241m=\u001b[39m edges\u001b[38;5;241m.\u001b[39mcopy()\n",
      "File \u001b[0;32m~/packages/netplotbrain/netplotbrain/plotting/plot_parcels.py:99\u001b[0m, in \u001b[0;36m_plot_parcels\u001b[0;34m(ax, img, cmap, hemisphere, **kwargs)\u001b[0m\n\u001b[1;32m     97\u001b[0m \u001b[38;5;66;03m# Create a nnode length (or longer) array which repeats colormap\u001b[39;00m\n\u001b[1;32m     98\u001b[0m \u001b[38;5;28;01mif\u001b[39;00m \u001b[38;5;28misinstance\u001b[39m(cmap, \u001b[38;5;28mstr\u001b[39m):\n\u001b[0;32m---> 99\u001b[0m     colors \u001b[38;5;241m=\u001b[39m \u001b[43m_colorarray_from_string\u001b[49m\u001b[43m(\u001b[49m\u001b[43mcmap\u001b[49m\u001b[43m,\u001b[49m\u001b[43m \u001b[49m\u001b[38;5;28;43mlen\u001b[39;49m\u001b[43m(\u001b[49m\u001b[43mnodelabels\u001b[49m\u001b[43m)\u001b[49m\u001b[43m)\u001b[49m\n\u001b[1;32m    100\u001b[0m \u001b[38;5;28;01melse\u001b[39;00m:\n\u001b[1;32m    101\u001b[0m     \u001b[38;5;66;03m# If colors has already been defined prior to calling this function\u001b[39;00m\n\u001b[1;32m    102\u001b[0m     colors \u001b[38;5;241m=\u001b[39m cmap\n",
      "File \u001b[0;32m~/packages/netplotbrain/netplotbrain/utils/coloring.py:16\u001b[0m, in \u001b[0;36m_colorarray_from_string\u001b[0;34m(cmap, ncolors)\u001b[0m\n\u001b[1;32m     14\u001b[0m     colors \u001b[38;5;241m=\u001b[39m np\u001b[38;5;241m.\u001b[39mvstack([colors] \u001b[38;5;241m*\u001b[39m ncolors)\n\u001b[1;32m     15\u001b[0m \u001b[38;5;28;01melse\u001b[39;00m:\n\u001b[0;32m---> 16\u001b[0m     colors \u001b[38;5;241m=\u001b[39m \u001b[43mcm\u001b[49m\u001b[38;5;241;43m.\u001b[39;49m\u001b[43mget_cmap\u001b[49m\u001b[43m(\u001b[49m\u001b[43mcmap\u001b[49m\u001b[43m)\u001b[49m\u001b[38;5;241m.\u001b[39mcolors\n\u001b[1;32m     17\u001b[0m     colors \u001b[38;5;241m=\u001b[39m colors \u001b[38;5;241m*\u001b[39m \u001b[38;5;28mint\u001b[39m(np\u001b[38;5;241m.\u001b[39mceil(ncolors \u001b[38;5;241m/\u001b[39m \u001b[38;5;28mlen\u001b[39m(colors)))\n\u001b[1;32m     18\u001b[0m     colors \u001b[38;5;241m=\u001b[39m np\u001b[38;5;241m.\u001b[39marray(colors)\n",
      "File \u001b[0;32m~/anaconda3/lib/python3.9/site-packages/matplotlib/_api/deprecation.py:200\u001b[0m, in \u001b[0;36mdeprecated.<locals>.deprecate.<locals>.wrapper\u001b[0;34m(*args, **kwargs)\u001b[0m\n\u001b[1;32m    198\u001b[0m \u001b[38;5;28;01mdef\u001b[39;00m \u001b[38;5;21mwrapper\u001b[39m(\u001b[38;5;241m*\u001b[39margs, \u001b[38;5;241m*\u001b[39m\u001b[38;5;241m*\u001b[39mkwargs):\n\u001b[1;32m    199\u001b[0m     emit_warning()\n\u001b[0;32m--> 200\u001b[0m     \u001b[38;5;28;01mreturn\u001b[39;00m \u001b[43mfunc\u001b[49m\u001b[43m(\u001b[49m\u001b[38;5;241;43m*\u001b[39;49m\u001b[43margs\u001b[49m\u001b[43m,\u001b[49m\u001b[43m \u001b[49m\u001b[38;5;241;43m*\u001b[39;49m\u001b[38;5;241;43m*\u001b[39;49m\u001b[43mkwargs\u001b[49m\u001b[43m)\u001b[49m\n",
      "File \u001b[0;32m~/anaconda3/lib/python3.9/site-packages/matplotlib/cm.py:300\u001b[0m, in \u001b[0;36m_get_cmap\u001b[0;34m(name, lut)\u001b[0m\n\u001b[1;32m    298\u001b[0m \u001b[38;5;28;01mif\u001b[39;00m \u001b[38;5;28misinstance\u001b[39m(name, colors\u001b[38;5;241m.\u001b[39mColormap):\n\u001b[1;32m    299\u001b[0m     \u001b[38;5;28;01mreturn\u001b[39;00m name\n\u001b[0;32m--> 300\u001b[0m \u001b[43m_api\u001b[49m\u001b[38;5;241;43m.\u001b[39;49m\u001b[43mcheck_in_list\u001b[49m\u001b[43m(\u001b[49m\u001b[38;5;28;43msorted\u001b[39;49m\u001b[43m(\u001b[49m\u001b[43m_colormaps\u001b[49m\u001b[43m)\u001b[49m\u001b[43m,\u001b[49m\u001b[43m \u001b[49m\u001b[43mname\u001b[49m\u001b[38;5;241;43m=\u001b[39;49m\u001b[43mname\u001b[49m\u001b[43m)\u001b[49m\n\u001b[1;32m    301\u001b[0m \u001b[38;5;28;01mif\u001b[39;00m lut \u001b[38;5;129;01mis\u001b[39;00m \u001b[38;5;28;01mNone\u001b[39;00m:\n\u001b[1;32m    302\u001b[0m     \u001b[38;5;28;01mreturn\u001b[39;00m _colormaps[name]\n",
      "File \u001b[0;32m~/anaconda3/lib/python3.9/site-packages/matplotlib/_api/__init__.py:131\u001b[0m, in \u001b[0;36mcheck_in_list\u001b[0;34m(_values, _print_supported_values, **kwargs)\u001b[0m\n\u001b[1;32m    129\u001b[0m \u001b[38;5;28;01mif\u001b[39;00m _print_supported_values:\n\u001b[1;32m    130\u001b[0m     msg \u001b[38;5;241m+\u001b[39m\u001b[38;5;241m=\u001b[39m \u001b[38;5;124mf\u001b[39m\u001b[38;5;124m\"\u001b[39m\u001b[38;5;124m; supported values are \u001b[39m\u001b[38;5;132;01m{\u001b[39;00m\u001b[38;5;124m'\u001b[39m\u001b[38;5;124m, \u001b[39m\u001b[38;5;124m'\u001b[39m\u001b[38;5;241m.\u001b[39mjoin(\u001b[38;5;28mmap\u001b[39m(\u001b[38;5;28mrepr\u001b[39m, values))\u001b[38;5;132;01m}\u001b[39;00m\u001b[38;5;124m\"\u001b[39m\n\u001b[0;32m--> 131\u001b[0m \u001b[38;5;28;01mraise\u001b[39;00m \u001b[38;5;167;01mValueError\u001b[39;00m(msg)\n",
      "\u001b[0;31mValueError\u001b[0m: 'networks' is not a valid value for name; supported values are 'Accent', 'Accent_r', 'Blues', 'Blues_r', 'BrBG', 'BrBG_r', 'BuGn', 'BuGn_r', 'BuPu', 'BuPu_r', 'CMRmap', 'CMRmap_r', 'Dark2', 'Dark2_r', 'GnBu', 'GnBu_r', 'Greens', 'Greens_r', 'Greys', 'Greys_r', 'OrRd', 'OrRd_r', 'Oranges', 'Oranges_r', 'PRGn', 'PRGn_r', 'Paired', 'Paired_r', 'Pastel1', 'Pastel1_r', 'Pastel2', 'Pastel2_r', 'PiYG', 'PiYG_r', 'PuBu', 'PuBuGn', 'PuBuGn_r', 'PuBu_r', 'PuOr', 'PuOr_r', 'PuRd', 'PuRd_r', 'Purples', 'Purples_r', 'RdBu', 'RdBu_r', 'RdGy', 'RdGy_r', 'RdPu', 'RdPu_r', 'RdYlBu', 'RdYlBu_r', 'RdYlGn', 'RdYlGn_r', 'Reds', 'Reds_r', 'Set1', 'Set1_r', 'Set2', 'Set2_r', 'Set3', 'Set3_r', 'Spectral', 'Spectral_r', 'Wistia', 'Wistia_r', 'YlGn', 'YlGnBu', 'YlGnBu_r', 'YlGn_r', 'YlOrBr', 'YlOrBr_r', 'YlOrRd', 'YlOrRd_r', 'afmhot', 'afmhot_r', 'autumn', 'autumn_r', 'binary', 'binary_r', 'bone', 'bone_r', 'brg', 'brg_r', 'bwr', 'bwr_r', 'cividis', 'cividis_r', 'cool', 'cool_r', 'coolwarm', 'coolwarm_r', 'copper', 'copper_r', 'cubehelix', 'cubehelix_r', 'flag', 'flag_r', 'gist_earth', 'gist_earth_r', 'gist_gray', 'gist_gray_r', 'gist_heat', 'gist_heat_r', 'gist_ncar', 'gist_ncar_r', 'gist_rainbow', 'gist_rainbow_r', 'gist_stern', 'gist_stern_r', 'gist_yarg', 'gist_yarg_r', 'gnuplot', 'gnuplot2', 'gnuplot2_r', 'gnuplot_r', 'gray', 'gray_r', 'hot', 'hot_r', 'hsv', 'hsv_r', 'inferno', 'inferno_r', 'jet', 'jet_r', 'magma', 'magma_r', 'nipy_spectral', 'nipy_spectral_r', 'ocean', 'ocean_r', 'pink', 'pink_r', 'plasma', 'plasma_r', 'prism', 'prism_r', 'rainbow', 'rainbow_r', 'seismic', 'seismic_r', 'spring', 'spring_r', 'summer', 'summer_r', 'tab10', 'tab10_r', 'tab20', 'tab20_r', 'tab20b', 'tab20b_r', 'tab20c', 'tab20c_r', 'terrain', 'terrain_r', 'turbo', 'turbo_r', 'twilight', 'twilight_r', 'twilight_shifted', 'twilight_shifted_r', 'viridis', 'viridis_r', 'winter', 'winter_r'"
     ]
    },
    {
     "data": {
      "image/png": "[encoded data removed]",
      "text/plain": [
       "<Figure size 216x216 with 1 Axes>"
      ]
     },
     "metadata": {
      "needs_background": "light"
     },
     "output_type": "display_data"
    }
   ],
   "source": [
    "# Plot with a the custom colormap\n",
    "netplotbrain.plot(nodes=nodes, \n",
    "                  node_type='parcels', \n",
    "                  nodes_df=atlas_df, \n",
    "                  node_color='networks', \n",
    "                  node_cmap=node_cmap)"
   ]
  }
 ],
 "metadata": {
  "jupytext": {
   "cell_metadata_filter": "-all",
   "main_language": "python",
   "notebook_metadata_filter": "-all"
  },
  "language_info": {
   "codemirror_mode": {
    "name": "ipython",
    "version": 3
   },
   "file_extension": ".py",
   "mimetype": "text/x-python",
   "name": "python",
   "nbconvert_exporter": "python",
   "pygments_lexer": "ipython3",
   "version": "3.9.12"
  }
 },
 "nbformat": 4,
 "nbformat_minor": 5
}
