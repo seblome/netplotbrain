{
 "cells": [
  {
   "cell_type": "markdown",
   "id": "8e6ed0ff",
   "metadata": {},
   "source": [
    " \n",
    "# Different node styles\n",
    "\n",
    "[Open interactive notebook in Binder](https://mybinder.org/v2/gh/wiheto/netplotbrain/main?filepath=docs/gallery/node_styles.ipynb)\n",
    "\n",
    "There are currently three different node style options to choose from: circles, spheres, parcels.\n",
    "You just need to change the specification in the node_type argument."
   ]
  },
  {
   "cell_type": "code",
   "execution_count": 1,
   "id": "5e1ec81d",
   "metadata": {
    "execution": {
     "iopub.execute_input": "2023-06-13T13:17:07.104406Z",
     "iopub.status.busy": "2023-06-13T13:17:07.103988Z",
     "iopub.status.idle": "2023-06-13T13:17:14.858186Z",
     "shell.execute_reply": "2023-06-13T13:17:14.857190Z"
    }
   },
   "outputs": [],
   "source": [
    "# Import packages\n",
    "import netplotbrain\n",
    "import matplotlib.pyplot as plt"
   ]
  },
  {
   "cell_type": "code",
   "execution_count": 2,
   "id": "b788f413",
   "metadata": {
    "execution": {
     "iopub.execute_input": "2023-06-13T13:17:14.863126Z",
     "iopub.status.busy": "2023-06-13T13:17:14.862797Z",
     "iopub.status.idle": "2023-06-13T13:17:14.889825Z",
     "shell.execute_reply": "2023-06-13T13:17:14.888442Z"
    }
   },
   "outputs": [
    {
     "data": {
      "text/plain": [
       "<Figure size 432x288 with 0 Axes>"
      ]
     },
     "metadata": {},
     "output_type": "display_data"
    }
   ],
   "source": [
    "fig  = plt.figure()"
   ]
  },
  {
   "cell_type": "code",
   "execution_count": 3,
   "id": "07b3b71c",
   "metadata": {
    "execution": {
     "iopub.execute_input": "2023-06-13T13:17:14.894600Z",
     "iopub.status.busy": "2023-06-13T13:17:14.894284Z",
     "iopub.status.idle": "2023-06-13T13:17:24.425742Z",
     "shell.execute_reply": "2023-06-13T13:17:24.424831Z"
    }
   },
   "outputs": [
    {
     "data": {
      "text/plain": [
       "(<Figure size 432x288 with 1 Axes>, [<Axes3D: title={'center': 'Circles'}>])"
      ]
     },
     "execution_count": 3,
     "metadata": {},
     "output_type": "execute_result"
    }
   ],
   "source": [
    "# Circles\n",
    "ax = fig.add_subplot(131, projection='3d')\n",
    "netplotbrain.plot(nodes={'atlas': 'Schaefer2018',\n",
    "                            'desc': '100Parcels7Networks',\n",
    "                            'resolution': 1},\n",
    "                  template='MNI152NLin6Asym',\n",
    "                  template_style='glass',\n",
    "                  template_glass_maxalpha=0.03,\n",
    "                  view='S',\n",
    "                  node_type='circles',\n",
    "                  node_scale=40,\n",
    "                  node_alpha=1,\n",
    "                  arrowaxis=None,\n",
    "                  subtitles='Circles',\n",
    "                  fig=fig, ax=ax)"
   ]
  },
  {
   "cell_type": "code",
   "execution_count": 4,
   "id": "b6a3fdf9",
   "metadata": {
    "execution": {
     "iopub.execute_input": "2023-06-13T13:17:24.430107Z",
     "iopub.status.busy": "2023-06-13T13:17:24.429752Z",
     "iopub.status.idle": "2023-06-13T13:17:36.029369Z",
     "shell.execute_reply": "2023-06-13T13:17:36.028719Z"
    }
   },
   "outputs": [
    {
     "data": {
      "text/plain": [
       "(<Figure size 432x288 with 2 Axes>, [<Axes3D: title={'center': 'Spheres'}>])"
      ]
     },
     "execution_count": 4,
     "metadata": {},
     "output_type": "execute_result"
    }
   ],
   "source": [
    "# Spheres\n",
    "ax = fig.add_subplot(132, projection='3d')\n",
    "netplotbrain.plot(nodes={'atlas': 'Schaefer2018',\n",
    "                            'desc': '100Parcels7Networks',\n",
    "                            'resolution': 1},\n",
    "                  template='MNI152NLin6Asym',\n",
    "                  template_style='glass',\n",
    "                  template_glass_maxalpha=0.03,\n",
    "                  view='S',\n",
    "                  node_type='spheres',\n",
    "                  node_alpha=1,\n",
    "                  arrowaxis=None,\n",
    "                  subtitles='Spheres',\n",
    "                  fig=fig, ax=ax)"
   ]
  },
  {
   "cell_type": "code",
   "execution_count": 5,
   "id": "4b819641",
   "metadata": {
    "execution": {
     "iopub.execute_input": "2023-06-13T13:17:36.033350Z",
     "iopub.status.busy": "2023-06-13T13:17:36.033132Z",
     "iopub.status.idle": "2023-06-13T13:17:52.479938Z",
     "shell.execute_reply": "2023-06-13T13:17:52.479320Z"
    }
   },
   "outputs": [
    {
     "data": {
      "text/plain": [
       "(<Figure size 432x288 with 3 Axes>, [<Axes3D: title={'center': 'Parcels'}>])"
      ]
     },
     "execution_count": 5,
     "metadata": {},
     "output_type": "execute_result"
    }
   ],
   "source": [
    "# Parcels\n",
    "ax = fig.add_subplot(133, projection='3d')\n",
    "netplotbrain.plot(nodes={'atlas': 'Schaefer2018',\n",
    "                           'desc': '100Parcels7Networks',\n",
    "                           'resolution': 1},\n",
    "                  template='MNI152NLin6Asym',\n",
    "                  template_style=None,\n",
    "                  view='S',\n",
    "                  node_type='parcels',\n",
    "                  node_alpha=1,\n",
    "                  node_color='tab20c',\n",
    "                  arrowaxis=None,\n",
    "                  subtitles='Parcels',\n",
    "                  fig=fig, ax=ax)"
   ]
  }
 ],
 "metadata": {
  "jupytext": {
   "cell_metadata_filter": "-all",
   "main_language": "python",
   "notebook_metadata_filter": "-all"
  },
  "language_info": {
   "codemirror_mode": {
    "name": "ipython",
    "version": 3
   },
   "file_extension": ".py",
   "mimetype": "text/x-python",
   "name": "python",
   "nbconvert_exporter": "python",
   "pygments_lexer": "ipython3",
   "version": "3.9.12"
  }
 },
 "nbformat": 4,
 "nbformat_minor": 5
}
