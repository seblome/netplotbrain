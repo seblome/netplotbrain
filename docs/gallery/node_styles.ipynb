{
 "cells": [
  {
   "cell_type": "markdown",
   "id": "9bede4b0",
   "metadata": {},
   "source": [
    " \n",
    "# Different node styles\n",
    "\n",
    "[Open interactive notebook in Binder](https://mybinder.org/v2/gh/wiheto/netplotbrain/main?filepath=docs/gallery/node_styles.ipynb)\n",
    "\n",
    "There are currently three different node style options to choose from: circles, spheres, parcels.\n",
    "You just need to change the specification in the node_type argument."
   ]
  },
  {
   "cell_type": "code",
   "execution_count": 1,
   "id": "4057c752",
   "metadata": {
    "execution": {
     "iopub.execute_input": "2022-11-30T20:31:52.276511Z",
     "iopub.status.busy": "2022-11-30T20:31:52.276110Z",
     "iopub.status.idle": "2022-11-30T20:31:55.776855Z",
     "shell.execute_reply": "2022-11-30T20:31:55.776256Z"
    }
   },
   "outputs": [],
   "source": [
    "# Import packages\n",
    "import netplotbrain\n",
    "import matplotlib.pyplot as plt"
   ]
  },
  {
   "cell_type": "code",
   "execution_count": 2,
   "id": "996d6191",
   "metadata": {
    "execution": {
     "iopub.execute_input": "2022-11-30T20:31:55.779394Z",
     "iopub.status.busy": "2022-11-30T20:31:55.779192Z",
     "iopub.status.idle": "2022-11-30T20:31:55.790470Z",
     "shell.execute_reply": "2022-11-30T20:31:55.790066Z"
    }
   },
   "outputs": [
    {
     "data": {
      "text/plain": [
       "<Figure size 432x288 with 0 Axes>"
      ]
     },
     "metadata": {},
     "output_type": "display_data"
    }
   ],
   "source": [
    "fig  = plt.figure()"
   ]
  },
  {
   "cell_type": "code",
   "execution_count": 3,
   "id": "b9744a4c",
   "metadata": {
    "execution": {
     "iopub.execute_input": "2022-11-30T20:31:55.792359Z",
     "iopub.status.busy": "2022-11-30T20:31:55.792228Z",
     "iopub.status.idle": "2022-11-30T20:32:01.172438Z",
     "shell.execute_reply": "2022-11-30T20:32:01.171980Z"
    }
   },
   "outputs": [
    {
     "data": {
      "text/plain": [
       "(<Figure size 432x288 with 1 Axes>,\n",
       " [<Axes3DSubplot: title={'center': 'Circles'}>])"
      ]
     },
     "execution_count": 3,
     "metadata": {},
     "output_type": "execute_result"
    }
   ],
   "source": [
    "# Circles\n",
    "ax = fig.add_subplot(131, projection='3d')\n",
    "netplotbrain.plot(nodes={'atlas': 'Schaefer2018',\n",
    "                            'desc': '100Parcels7Networks',\n",
    "                            'resolution': 1},\n",
    "                  template='MNI152NLin6Asym',\n",
    "                  template_style='glass',\n",
    "                  template_glass_maxalpha=0.03,\n",
    "                  view='S',\n",
    "                  node_type='circles',\n",
    "                  node_scale=40,\n",
    "                  node_alpha=1,\n",
    "                  arrowaxis=None,\n",
    "                  subtitles='Circles',\n",
    "                  fig=fig, ax=ax)"
   ]
  },
  {
   "cell_type": "code",
   "execution_count": 4,
   "id": "57047813",
   "metadata": {
    "execution": {
     "iopub.execute_input": "2022-11-30T20:32:01.174659Z",
     "iopub.status.busy": "2022-11-30T20:32:01.174502Z",
     "iopub.status.idle": "2022-11-30T20:32:06.880092Z",
     "shell.execute_reply": "2022-11-30T20:32:06.879719Z"
    }
   },
   "outputs": [
    {
     "data": {
      "text/plain": [
       "(<Figure size 432x288 with 2 Axes>,\n",
       " [<Axes3DSubplot: title={'center': 'Spheres'}>])"
      ]
     },
     "execution_count": 4,
     "metadata": {},
     "output_type": "execute_result"
    }
   ],
   "source": [
    "# Spheres\n",
    "ax = fig.add_subplot(132, projection='3d')\n",
    "netplotbrain.plot(nodes={'atlas': 'Schaefer2018',\n",
    "                            'desc': '100Parcels7Networks',\n",
    "                            'resolution': 1},\n",
    "                  template='MNI152NLin6Asym',\n",
    "                  template_style='glass',\n",
    "                  template_glass_maxalpha=0.03,\n",
    "                  view='S',\n",
    "                  node_type='spheres',\n",
    "                  node_alpha=1,\n",
    "                  arrowaxis=None,\n",
    "                  subtitles='Spheres',\n",
    "                  fig=fig, ax=ax)"
   ]
  },
  {
   "cell_type": "code",
   "execution_count": 5,
   "id": "9f41ada0",
   "metadata": {
    "execution": {
     "iopub.execute_input": "2022-11-30T20:32:06.881811Z",
     "iopub.status.busy": "2022-11-30T20:32:06.881699Z",
     "iopub.status.idle": "2022-11-30T20:32:14.208952Z",
     "shell.execute_reply": "2022-11-30T20:32:14.208530Z"
    }
   },
   "outputs": [
    {
     "data": {
      "text/plain": [
       "(<Figure size 432x288 with 3 Axes>,\n",
       " [<Axes3DSubplot: title={'center': 'Parcels'}>])"
      ]
     },
     "execution_count": 5,
     "metadata": {},
     "output_type": "execute_result"
    }
   ],
   "source": [
    "# Parcels\n",
    "ax = fig.add_subplot(133, projection='3d')\n",
    "netplotbrain.plot(nodes={'atlas': 'Schaefer2018',\n",
    "                           'desc': '100Parcels7Networks',\n",
    "                           'resolution': 1},\n",
    "                  template='MNI152NLin6Asym',\n",
    "                  template_style=None,\n",
    "                  view='S',\n",
    "                  node_type='parcels',\n",
    "                  node_alpha=1,\n",
    "                  node_color='tab20c',\n",
    "                  arrowaxis=None,\n",
    "                  subtitles='Parcels',\n",
    "                  fig=fig, ax=ax)"
   ]
  }
 ],
 "metadata": {
  "jupytext": {
   "cell_metadata_filter": "-all",
   "main_language": "python",
   "notebook_metadata_filter": "-all"
  },
  "language_info": {
   "codemirror_mode": {
    "name": "ipython",
    "version": 3
   },
   "file_extension": ".py",
   "mimetype": "text/x-python",
   "name": "python",
   "nbconvert_exporter": "python",
   "pygments_lexer": "ipython3",
   "version": "3.9.12"
  }
 },
 "nbformat": 4,
 "nbformat_minor": 5
}
