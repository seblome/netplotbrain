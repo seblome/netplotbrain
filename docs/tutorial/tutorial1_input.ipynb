{
 "cells": [
  {
   "attachments": {},
   "cell_type": "markdown",
   "id": "d8962949",
   "metadata": {
    "cell_marker": "\"\"\""
   },
   "source": [
    "# Tutorial 1: Input data\n",
    "\n",
    "There are three input components: \n",
    "\n",
    "1. the nodes, \n",
    "2. the edges, \n",
    "3. the template\n",
    "\n",
    "Each component and their properties are  plotted independently of each other."
   ]
  },
  {
   "attachments": {},
   "cell_type": "markdown",
   "id": "1dfb29ce",
   "metadata": {
    "cell_marker": "\"\"\""
   },
   "source": [
    "## Specifying Nodes\n",
    "\n",
    "There are two ways you can specify the coordinates of the nodes. \n",
    "\n",
    "### A pandas dataframe (Argument: nodes) \n",
    "\n",
    "To plot the nodes, the pandas dataframe must contain three columns that refer to the 3D coordinates of each node. By default, these columns are called `x`, `y`, `z`, but they can be manually specified by calling the `colnames` keyword argument. \n",
    "\n",
    "Thus, the dataframe will begin something like this:\n",
    "\n",
    "| x       | y     | z     |\n",
    "| :-------------:  | :----------: | :-----------: |\n",
    "|  40     | 50    | 20    |\n",
    "| -10     | 40    | 30    |\n",
    "\n",
    "If we create this dataframe with the two nodes above, we will just plot two circles onto the figure. "
   ]
  },
  {
   "cell_type": "code",
   "execution_count": 1,
   "id": "bba1d143",
   "metadata": {
    "execution": {
     "iopub.execute_input": "2023-06-15T20:59:22.077560Z",
     "iopub.status.busy": "2023-06-15T20:59:22.077182Z",
     "iopub.status.idle": "2023-06-15T20:59:24.848029Z",
     "shell.execute_reply": "2023-06-15T20:59:24.847689Z"
    }
   },
   "outputs": [
    {
     "data": {
      "text/plain": [
       "(<Figure size 216x216 with 1 Axes>, [<Axes3D: title={'center': 'Left'}>])"
      ]
     },
     "execution_count": 1,
     "metadata": {},
     "output_type": "execute_result"
    },
    {
     "data": {
      "image/png": "[encoded data removed]",
      "text/plain": [
       "<Figure size 216x216 with 1 Axes>"
      ]
     },
     "metadata": {
      "needs_background": "light"
     },
     "output_type": "display_data"
    }
   ],
   "source": [
    "# Import packages\n",
    "import netplotbrain\n",
    "import pandas as pd\n",
    "# Define the nodes\n",
    "nodes_df = pd.DataFrame({'x': [40, 10, 30, -15, -25], \n",
    "                         'y': [50, 40, -10, -20, 20], \n",
    "                         'z': [20, 30, -10, -15, 30]})\n",
    "# Call netplotbrain to plot\n",
    "netplotbrain.plot(nodes=nodes_df, arrowaxis=None)"
   ]
  },
  {
   "attachments": {},
   "cell_type": "markdown",
   "id": "05d4ffcb",
   "metadata": {
    "cell_marker": "\"\"\""
   },
   "source": [
    "Here we just see five dots of the same size, but we have nodes in the 3D space. \n",
    "\n",
    "The second option `arrowaxis` turns off some default, directional arrows which do not look good in this small-scale example without a background template.\n",
    "\n",
    "The other columns in the dataframe can refer to node-related properties (e.g., size and colour). In such cases the dataframe may begin something like this: \n",
    "\n",
    "These just become other columns in the dataframe (called node_df).\n",
    "\n",
    "| x       | y     | z     | communities | degree_centrality |\n",
    "| :-------------:  | :----------: | :-----------: | :----------: | :-----------: |\n",
    "|  40     | 50    | 20    | 1    | 0.8\n",
    "| -10     | 40    | 30    | 1    | 0.4\n",
    "\n",
    "Then the columns `node_color=communities`and `node_size=degree_centrality` can be specified and each node will automatically be coloured or scaled by the specified column. For example: "
   ]
  },
  {
   "cell_type": "code",
   "execution_count": 2,
   "id": "bee23e53",
   "metadata": {
    "execution": {
     "iopub.execute_input": "2023-06-15T20:59:24.849918Z",
     "iopub.status.busy": "2023-06-15T20:59:24.849752Z",
     "iopub.status.idle": "2023-06-15T20:59:24.964258Z",
     "shell.execute_reply": "2023-06-15T20:59:24.963925Z"
    }
   },
   "outputs": [
    {
     "data": {
      "text/plain": [
       "(<Figure size 216x288 with 3 Axes>,\n",
       " [<Axes3D: title={'center': 'Left'}>, <Axes: >, <Axes: >])"
      ]
     },
     "execution_count": 2,
     "metadata": {},
     "output_type": "execute_result"
    },
    {
     "data": {
      "image/png": "[encoded data removed]",
      "text/plain": [
       "<Figure size 216x288 with 3 Axes>"
      ]
     },
     "metadata": {
      "needs_background": "light"
     },
     "output_type": "display_data"
    }
   ],
   "source": [
    "# Define the nodes (5 example nodes)\n",
    "nodes_df = pd.DataFrame(data={'x': [40, 10, 30, -15, -25], \n",
    "                              'y': [50, 40, -10, -20, 20], \n",
    "                              'z': [20, 30, -10, -15, 30], \n",
    "                              'communities': [1, 1, 1, 2, 2], \n",
    "                              'degree_centrality': [1, 1, 0.2, 0.8, 0.4]})\n",
    "# Call netplotbrain to plot\n",
    "netplotbrain.plot(\n",
    "    nodes=nodes_df,\n",
    "    node_size='degree_centrality',\n",
    "    node_color='communities',\n",
    "    arrowaxis=None,\n",
    "    node_scale=100)"
   ]
  },
  {
   "attachments": {},
   "cell_type": "markdown",
   "id": "d279e82b",
   "metadata": {
    "cell_marker": "\"\"\""
   },
   "source": [
    "This will just plot the nodes, with each node having the size of the degree_centrality column and a colour of the communities column. Here we have also added `node_scale` which just linearly scales all nodes by that factor. We also see that, when specifying `node_size` and `node_color`, that legends automatically appear.\n",
    "\n",
    "At the moment we just have some circles floating in 3D space. Let us add some more information about this network.\n",
    "\n",
    "### An atlas from templateflow or local file (Argument: nodes) \n",
    "\n",
    "One of the key benefits of using netplotbrain is that it interacts with TemplateFlow, which is a collection of brain templates and atlases.\n",
    "The atlases can be used as nodes.\n",
    "If you specify the key/value pairs of an atlas on templateflow in a dictionary, the atlas will be automatically downloaded.\n",
    "For example, the following will get the 400 Parcels version from the Schaefer atlas."
   ]
  },
  {
   "cell_type": "code",
   "execution_count": 3,
   "id": "ae2629cd",
   "metadata": {
    "execution": {
     "iopub.execute_input": "2023-06-15T20:59:24.966060Z",
     "iopub.status.busy": "2023-06-15T20:59:24.965938Z",
     "iopub.status.idle": "2023-06-15T20:59:37.090931Z",
     "shell.execute_reply": "2023-06-15T20:59:37.090606Z"
    }
   },
   "outputs": [
    {
     "data": {
      "text/plain": [
       "(<Figure size 216x216 with 1 Axes>, [<Axes3D: title={'center': 'Left'}>])"
      ]
     },
     "execution_count": 3,
     "metadata": {},
     "output_type": "execute_result"
    },
    {
     "data": {
      "image/png": "[encoded data removed]",
      "text/plain": [
       "<Figure size 216x216 with 1 Axes>"
      ]
     },
     "metadata": {
      "needs_background": "light"
     },
     "output_type": "display_data"
    }
   ],
   "source": [
    "# Define the atlas by key value words of TemplateFlow name\n",
    "nodes={'template': 'MNI152NLin2009cAsym',\n",
    "         'atlas': 'Schaefer2018',\n",
    "         'desc': '400Parcels7Networks',\n",
    "         'resolution': 1}\n",
    "## Template (nifti or string)\n",
    "netplotbrain.plot(\n",
    "    nodes=nodes,\n",
    "    arrowaxis=None)     "
   ]
  },
  {
   "attachments": {},
   "cell_type": "markdown",
   "id": "2bd3e001",
   "metadata": {
    "cell_marker": "\"\"\""
   },
   "source": [
    "See templateflow.org for more atlases.\n",
    "\n",
    "If the template argument is specified in `netplotbrain.plot`, then the template argument does not need to be included in the `nodes` dictionary.\n",
    "\n",
    "Since the nifti image consists of parcels (i.e., regions) of the brain instead of circles placed throughout the brain, it is possible to specify that you would rather visualize the parcels, over the circles, with a single argument `node_type`."
   ]
  },
  {
   "cell_type": "code",
   "execution_count": 4,
   "id": "5e04fb23",
   "metadata": {
    "execution": {
     "iopub.execute_input": "2023-06-15T20:59:37.092999Z",
     "iopub.status.busy": "2023-06-15T20:59:37.092884Z",
     "iopub.status.idle": "2023-06-15T20:59:49.459824Z",
     "shell.execute_reply": "2023-06-15T20:59:49.459517Z"
    }
   },
   "outputs": [
    {
     "data": {
      "text/plain": [
       "(<Figure size 216x216 with 1 Axes>, [<Axes3D: title={'center': 'Left'}>])"
      ]
     },
     "execution_count": 4,
     "metadata": {},
     "output_type": "execute_result"
    },
    {
     "data": {
      "image/png": "[encoded data removed]",
      "text/plain": [
       "<Figure size 216x216 with 1 Axes>"
      ]
     },
     "metadata": {
      "needs_background": "light"
     },
     "output_type": "display_data"
    }
   ],
   "source": [
    "# Define the atlas by key value words of TemplateFlow name\n",
    "nodes={'template': 'MNI152NLin2009cAsym',\n",
    "         'atlas': 'Schaefer2018',\n",
    "         'desc': '400Parcels7Networks',\n",
    "         'resolution': 1}\n",
    "# Plot\n",
    "netplotbrain.plot(\n",
    "    nodes=nodes,\n",
    "    arrowaxis=None,\n",
    "    node_type='parcels')     "
   ]
  },
  {
   "attachments": {},
   "cell_type": "markdown",
   "id": "52d39587",
   "metadata": {
    "cell_marker": "\"\"\""
   },
   "source": [
    "## Specifying Edges\n",
    "\n",
    "The edges between the nodes can be passed to netplotbrain as either a numpy array (NxN adjacency matrix) or a pandas dataframe (edgelist) with the default columns 'i', 'j', and 'weight' (optional). An example:\n",
    "\n",
    "| j       | j     | weight     |\n",
    "| :-------------:  | :----------: | :-----------: |\n",
    "|  0     | 1    | 0.8    |\n",
    "|  1     | 2    | 0.5    |\n",
    "\n",
    "`i` and `j` reference the indices of our nodes defined above. You can use the argument `edgecol` to specify different column names.\n",
    "\n",
    "Let us continue to add to our figure above: "
   ]
  },
  {
   "cell_type": "code",
   "execution_count": 5,
   "id": "88fbcecc",
   "metadata": {
    "execution": {
     "iopub.execute_input": "2023-06-15T20:59:49.461928Z",
     "iopub.status.busy": "2023-06-15T20:59:49.461823Z",
     "iopub.status.idle": "2023-06-15T20:59:49.551932Z",
     "shell.execute_reply": "2023-06-15T20:59:49.551570Z"
    }
   },
   "outputs": [
    {
     "data": {
      "text/plain": [
       "(<Figure size 216x252 with 2 Axes>,\n",
       " [<Axes3D: title={'center': 'Left'}>, <Axes: >])"
      ]
     },
     "execution_count": 5,
     "metadata": {},
     "output_type": "execute_result"
    },
    {
     "data": {
      "image/png": "[encoded data removed]",
      "text/plain": [
       "<Figure size 216x252 with 2 Axes>"
      ]
     },
     "metadata": {
      "needs_background": "light"
     },
     "output_type": "display_data"
    }
   ],
   "source": [
    "# Define the nodes (5 example nodes)\n",
    "nodes_df = pd.DataFrame(data={'x': [40, 10, 30, -15, -25], \n",
    "                              'y': [50, 40, -10, -20, 20], \n",
    "                              'z': [20, 30, -10, -15, 30], \n",
    "                              'communities': [1, 1, 1, 2, 2], \n",
    "                              'degree_centrality': [1, 1, 0.2, 0.8, 0.4]})\n",
    "# Define the edges \n",
    "edges_df = pd.DataFrame(data={'i': [0, 0, 1, 1, 3], \n",
    "                              'j': [1, 2, 2, 3, 4]})\n",
    "# Call netplotbrain to plot\n",
    "netplotbrain.plot(\n",
    "    nodes=nodes_df,\n",
    "    edges=edges_df,\n",
    "    node_color='communities',\n",
    "    arrowaxis=None,\n",
    "    node_scale=150)"
   ]
  },
  {
   "attachments": {},
   "cell_type": "markdown",
   "id": "4ebb02bd",
   "metadata": {
    "cell_marker": "\"\"\""
   },
   "source": [
    "If you have the column `weight` in your edge dataframe, these will be automatically plotted as well. \n",
    "This can be turned off by setting `edge_weights` to False. Also, a list of length 3 can be given to edgecol that specifies alternative names for ['i', 'j', 'weights']."
   ]
  },
  {
   "cell_type": "code",
   "execution_count": 6,
   "id": "50943253",
   "metadata": {
    "execution": {
     "iopub.execute_input": "2023-06-15T20:59:49.554232Z",
     "iopub.status.busy": "2023-06-15T20:59:49.553982Z",
     "iopub.status.idle": "2023-06-15T20:59:49.642610Z",
     "shell.execute_reply": "2023-06-15T20:59:49.642280Z"
    }
   },
   "outputs": [
    {
     "data": {
      "text/plain": [
       "(<Figure size 216x252 with 2 Axes>,\n",
       " [<Axes3D: title={'center': 'Left'}>, <Axes: >])"
      ]
     },
     "execution_count": 6,
     "metadata": {},
     "output_type": "execute_result"
    },
    {
     "data": {
      "image/png": "[encoded data removed]",
      "text/plain": [
       "<Figure size 216x252 with 2 Axes>"
      ]
     },
     "metadata": {
      "needs_background": "light"
     },
     "output_type": "display_data"
    }
   ],
   "source": [
    "# Import packages\n",
    "# Define the nodes (5 example nodes)\n",
    "nodes_df = pd.DataFrame(data={'x': [40, 10, 30, -15, -25], \n",
    "                              'y': [50, 40, -10, -20, 20], \n",
    "                              'z': [20, 30, -10, -15, 30], \n",
    "                              'communities': [1, 1, 1, 2, 2], \n",
    "                              'degree_centrality': [1, 1, 0.2, 0.8, 0.4]})\n",
    "# Define the edges \n",
    "edges_df = pd.DataFrame(data={'i': [0, 0, 1, 1, 3], \n",
    "                              'j': [1, 2, 2, 3, 4]})\n",
    "# Call netplotbrain to plot\n",
    "netplotbrain.plot(\n",
    "    nodes=nodes_df,\n",
    "    edges=edges_df,\n",
    "    node_color='communities',\n",
    "    arrowaxis=None,\n",
    "    node_scale=150)"
   ]
  },
  {
   "attachments": {},
   "cell_type": "markdown",
   "id": "15e52e7a",
   "metadata": {},
   "source": [
    "Finally, you can specify a number matrix instead of a pandas dataframe. "
   ]
  },
  {
   "cell_type": "code",
   "execution_count": 7,
   "id": "4f73744c",
   "metadata": {
    "execution": {
     "iopub.execute_input": "2023-06-15T20:59:49.644852Z",
     "iopub.status.busy": "2023-06-15T20:59:49.644520Z",
     "iopub.status.idle": "2023-06-15T20:59:49.735400Z",
     "shell.execute_reply": "2023-06-15T20:59:49.735053Z"
    }
   },
   "outputs": [
    {
     "data": {
      "text/plain": [
       "(<Figure size 216x252 with 2 Axes>,\n",
       " [<Axes3D: title={'center': 'Left'}>, <Axes: >])"
      ]
     },
     "execution_count": 7,
     "metadata": {},
     "output_type": "execute_result"
    },
    {
     "data": {
      "image/png": "[encoded data removed]",
      "text/plain": [
       "<Figure size 216x252 with 2 Axes>"
      ]
     },
     "metadata": {
      "needs_background": "light"
     },
     "output_type": "display_data"
    }
   ],
   "source": [
    "# Define the nodes (5 example nodes)\n",
    "nodes_df = pd.DataFrame(data={'x': [40, 10, 30, -15, -25], \n",
    "                              'y': [50, 40, -10, -20, 20], \n",
    "                              'z': [20, 30, -10, -15, 30], \n",
    "                              'communities': [1, 1, 1, 2, 2], \n",
    "                              'degree_centrality': [1, 1, 0.2, 0.8, 0.4]})\n",
    "# Define the edges \n",
    "edges_df = pd.DataFrame(data={'i': [0, 0, 1, 1, 3], \n",
    "                              'j': [1, 2, 2, 3, 4]})\n",
    "# Call netplotbrain to plot\n",
    "netplotbrain.plot(\n",
    "    nodes=nodes_df,\n",
    "    edges=edges_df,\n",
    "    node_color='communities',\n",
    "    arrowaxis=None,\n",
    "    node_scale=150)"
   ]
  },
  {
   "attachments": {},
   "cell_type": "markdown",
   "id": "e905b01d",
   "metadata": {
    "cell_marker": "\"\"\""
   },
   "source": [
    "## Specifying Templates\n",
    "### Template (nifti or string)\n",
    "\n",
    "For the template you can supply any nifti file.\n",
    "\n",
    "You can also provide the template name for any template on templateflow.org.\n",
    "The T1w brain mask will then be automatically downloaded (if not already present on your computer) and used as the background.\n",
    "\n",
    "Note, if there are multiple cohorts for the atlas, you should add which cohort it is to the string. This specification follows the format \"templatename_cohort-X\". So, for example, if you want to use the second cohort for MNIInfant, you specify \"MNIInfant_cohort-2\". Additionally, if there is a specific templateflow file that you wish to use (that is not one of the default template files) you can specify a dictionary of templateflow keyword-value pairs. \n",
    "\n",
    "### Template Styles\n",
    "\n",
    "There are currently four background styles: \"glass\", \"surface\", \"cloudy\" and \"filled\".\n",
    "\n",
    "The surface quickly renders a surface from the voxels. Additional arguments can be provided in order to modify the resolution of the surface.\n",
    "\n",
    "The cloudy style tries to identify the outline of the mask and plots points along the edges.The cloudy style is quick, but the edge detection is run relative to the specified initial view of the plot.\n",
    "\n",
    "The filled style plots the template's brain mask as voxels. This can be slightly RAM consuming.\n",
    "\n",
    "For templates, you can change the voxelsize of the template. Larger voxels means the plot will be generated quicker.\n",
    "\n",
    "This can come in handy especially when the filled style is used. \n",
    "\n",
    "When `template_voxelsize` is unchanged, the rendering can take time.   "
   ]
  },
  {
   "cell_type": "code",
   "execution_count": 8,
   "id": "17431ff3",
   "metadata": {
    "execution": {
     "iopub.execute_input": "2023-06-15T20:59:49.737143Z",
     "iopub.status.busy": "2023-06-15T20:59:49.736921Z",
     "iopub.status.idle": "2023-06-15T21:02:42.804326Z",
     "shell.execute_reply": "2023-06-15T21:02:42.803848Z"
    }
   },
   "outputs": [
    {
     "name": "stdout",
     "output_type": "stream",
     "text": [
      "WARNING: When the template_style is set to filled and template_voxsize argument is not manually set, plotting can take time.\n",
      "                   Consider increasing the voxel size using the argument template_voxelsize.\n"
     ]
    },
    {
     "data": {
      "text/plain": [
       "(<Figure size 216x216 with 1 Axes>, [<Axes3D: title={'center': 'Left'}>])"
      ]
     },
     "execution_count": 8,
     "metadata": {},
     "output_type": "execute_result"
    },
    {
     "data": {
      "image/png": "[encoded data removed]",
      "text/plain": [
       "<Figure size 216x216 with 1 Axes>"
      ]
     },
     "metadata": {
      "needs_background": "light"
     },
     "output_type": "display_data"
    }
   ],
   "source": [
    "# Call netplotbrain to plot\n",
    "netplotbrain.plot(\n",
    "    template='MNI152NLin6Asym',\n",
    "    template_style='filled',\n",
    "    arrowaxis=None)   \n",
    "# renders in ca 156 seconds "
   ]
  },
  {
   "attachments": {},
   "cell_type": "markdown",
   "id": "2feefc99",
   "metadata": {},
   "source": [
    "In order to notably reduce the rendering speed, you can increase `template_voxelsize`. \n",
    "\n",
    "\n",
    "increasing voxelsize\n",
    "netplotbrain.plot(\n",
    "    template='MNI152NLin6Asym',\n",
    "    template_style='filled',\n",
    "    template_voxelsize=3,\n",
    "    arrowaxis=None)\n",
    "renders in ca 24 seconds "
   ]
  },
  {
   "attachments": {},
   "cell_type": "markdown",
   "id": "2cac0569",
   "metadata": {},
   "source": [
    "However, note that an excessive increase of voxelsize can degrade spatial resolution.  "
   ]
  },
  {
   "cell_type": "code",
   "execution_count": 9,
   "id": "d298c86d",
   "metadata": {
    "execution": {
     "iopub.execute_input": "2023-06-15T21:02:42.807225Z",
     "iopub.status.busy": "2023-06-15T21:02:42.806838Z",
     "iopub.status.idle": "2023-06-15T21:02:47.049803Z",
     "shell.execute_reply": "2023-06-15T21:02:47.049292Z"
    }
   },
   "outputs": [
    {
     "data": {
      "text/plain": [
       "(<Figure size 216x216 with 1 Axes>, [<Axes3D: title={'center': 'Left'}>])"
      ]
     },
     "execution_count": 9,
     "metadata": {},
     "output_type": "execute_result"
    },
    {
     "data": {
      "image/png": "[encoded data removed]",
      "text/plain": [
       "<Figure size 216x216 with 1 Axes>"
      ]
     },
     "metadata": {
      "needs_background": "light"
     },
     "output_type": "display_data"
    }
   ],
   "source": [
    "# further increasing voxelsize\n",
    "netplotbrain.plot(\n",
    "    template='MNI152NLin6Asym',\n",
    "    template_style='filled',\n",
    "    template_voxelsize=7,\n",
    "    arrowaxis=None)\n",
    "    \n",
    "# renders in ca. 3 seconds "
   ]
  },
  {
   "attachments": {},
   "cell_type": "markdown",
   "id": "83086b50",
   "metadata": {},
   "source": [
    "Thus, when using the filled style, we invite you to consider the trade-off between rendering speed and spatial resolution."
   ]
  }
 ],
 "metadata": {
  "jupytext": {
   "cell_metadata_filter": "-all",
   "formats": "ipynb,py:light",
   "main_language": "python"
  },
  "language_info": {
   "codemirror_mode": {
    "name": "ipython",
    "version": 3
   },
   "file_extension": ".py",
   "mimetype": "text/x-python",
   "name": "python",
   "nbconvert_exporter": "python",
   "pygments_lexer": "ipython3",
   "version": "3.9.12"
  }
 },
 "nbformat": 4,
 "nbformat_minor": 5
}
